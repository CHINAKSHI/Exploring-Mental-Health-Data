{
 "cells": [
  {
   "cell_type": "code",
   "execution_count": 1,
   "id": "c27e0b4f-a75a-46b8-a15e-f641ca74c320",
   "metadata": {},
   "outputs": [],
   "source": [
    "import os\n",
    "import numpy as np\n",
    "import pandas as pd"
   ]
  },
  {
   "cell_type": "code",
   "execution_count": 2,
   "id": "e2b20807-a919-47aa-8d03-043e2a77cf0f",
   "metadata": {},
   "outputs": [],
   "source": [
    "train = pd.read_csv('train.csv')"
   ]
  },
  {
   "cell_type": "code",
   "execution_count": 85,
   "id": "77657052-455d-473b-9d75-aced39bb81e2",
   "metadata": {},
   "outputs": [],
   "source": [
    "test =  pd.read_csv('test.csv')"
   ]
  },
  {
   "cell_type": "code",
   "execution_count": 4,
   "id": "992c265f-91e5-4ad2-9b4d-52c15b77b130",
   "metadata": {},
   "outputs": [
    {
     "data": {
      "text/html": [
       "<div>\n",
       "<style scoped>\n",
       "    .dataframe tbody tr th:only-of-type {\n",
       "        vertical-align: middle;\n",
       "    }\n",
       "\n",
       "    .dataframe tbody tr th {\n",
       "        vertical-align: top;\n",
       "    }\n",
       "\n",
       "    .dataframe thead th {\n",
       "        text-align: right;\n",
       "    }\n",
       "</style>\n",
       "<table border=\"1\" class=\"dataframe\">\n",
       "  <thead>\n",
       "    <tr style=\"text-align: right;\">\n",
       "      <th></th>\n",
       "      <th>id</th>\n",
       "      <th>Name</th>\n",
       "      <th>Gender</th>\n",
       "      <th>Age</th>\n",
       "      <th>City</th>\n",
       "      <th>Working Professional or Student</th>\n",
       "      <th>Profession</th>\n",
       "      <th>Academic Pressure</th>\n",
       "      <th>Work Pressure</th>\n",
       "      <th>CGPA</th>\n",
       "      <th>Study Satisfaction</th>\n",
       "      <th>Job Satisfaction</th>\n",
       "      <th>Sleep Duration</th>\n",
       "      <th>Dietary Habits</th>\n",
       "      <th>Degree</th>\n",
       "      <th>Have you ever had suicidal thoughts ?</th>\n",
       "      <th>Work/Study Hours</th>\n",
       "      <th>Financial Stress</th>\n",
       "      <th>Family History of Mental Illness</th>\n",
       "      <th>Depression</th>\n",
       "    </tr>\n",
       "  </thead>\n",
       "  <tbody>\n",
       "    <tr>\n",
       "      <th>0</th>\n",
       "      <td>0</td>\n",
       "      <td>Aaradhya</td>\n",
       "      <td>Female</td>\n",
       "      <td>49.0</td>\n",
       "      <td>Ludhiana</td>\n",
       "      <td>Working Professional</td>\n",
       "      <td>Chef</td>\n",
       "      <td>NaN</td>\n",
       "      <td>5.0</td>\n",
       "      <td>NaN</td>\n",
       "      <td>NaN</td>\n",
       "      <td>2.0</td>\n",
       "      <td>More than 8 hours</td>\n",
       "      <td>Healthy</td>\n",
       "      <td>BHM</td>\n",
       "      <td>No</td>\n",
       "      <td>1.0</td>\n",
       "      <td>2.0</td>\n",
       "      <td>No</td>\n",
       "      <td>0</td>\n",
       "    </tr>\n",
       "    <tr>\n",
       "      <th>1</th>\n",
       "      <td>1</td>\n",
       "      <td>Vivan</td>\n",
       "      <td>Male</td>\n",
       "      <td>26.0</td>\n",
       "      <td>Varanasi</td>\n",
       "      <td>Working Professional</td>\n",
       "      <td>Teacher</td>\n",
       "      <td>NaN</td>\n",
       "      <td>4.0</td>\n",
       "      <td>NaN</td>\n",
       "      <td>NaN</td>\n",
       "      <td>3.0</td>\n",
       "      <td>Less than 5 hours</td>\n",
       "      <td>Unhealthy</td>\n",
       "      <td>LLB</td>\n",
       "      <td>Yes</td>\n",
       "      <td>7.0</td>\n",
       "      <td>3.0</td>\n",
       "      <td>No</td>\n",
       "      <td>1</td>\n",
       "    </tr>\n",
       "    <tr>\n",
       "      <th>2</th>\n",
       "      <td>2</td>\n",
       "      <td>Yuvraj</td>\n",
       "      <td>Male</td>\n",
       "      <td>33.0</td>\n",
       "      <td>Visakhapatnam</td>\n",
       "      <td>Student</td>\n",
       "      <td>NaN</td>\n",
       "      <td>5.0</td>\n",
       "      <td>NaN</td>\n",
       "      <td>8.97</td>\n",
       "      <td>2.0</td>\n",
       "      <td>NaN</td>\n",
       "      <td>5-6 hours</td>\n",
       "      <td>Healthy</td>\n",
       "      <td>B.Pharm</td>\n",
       "      <td>Yes</td>\n",
       "      <td>3.0</td>\n",
       "      <td>1.0</td>\n",
       "      <td>No</td>\n",
       "      <td>1</td>\n",
       "    </tr>\n",
       "    <tr>\n",
       "      <th>3</th>\n",
       "      <td>3</td>\n",
       "      <td>Yuvraj</td>\n",
       "      <td>Male</td>\n",
       "      <td>22.0</td>\n",
       "      <td>Mumbai</td>\n",
       "      <td>Working Professional</td>\n",
       "      <td>Teacher</td>\n",
       "      <td>NaN</td>\n",
       "      <td>5.0</td>\n",
       "      <td>NaN</td>\n",
       "      <td>NaN</td>\n",
       "      <td>1.0</td>\n",
       "      <td>Less than 5 hours</td>\n",
       "      <td>Moderate</td>\n",
       "      <td>BBA</td>\n",
       "      <td>Yes</td>\n",
       "      <td>10.0</td>\n",
       "      <td>1.0</td>\n",
       "      <td>Yes</td>\n",
       "      <td>1</td>\n",
       "    </tr>\n",
       "    <tr>\n",
       "      <th>4</th>\n",
       "      <td>4</td>\n",
       "      <td>Rhea</td>\n",
       "      <td>Female</td>\n",
       "      <td>30.0</td>\n",
       "      <td>Kanpur</td>\n",
       "      <td>Working Professional</td>\n",
       "      <td>Business Analyst</td>\n",
       "      <td>NaN</td>\n",
       "      <td>1.0</td>\n",
       "      <td>NaN</td>\n",
       "      <td>NaN</td>\n",
       "      <td>1.0</td>\n",
       "      <td>5-6 hours</td>\n",
       "      <td>Unhealthy</td>\n",
       "      <td>BBA</td>\n",
       "      <td>Yes</td>\n",
       "      <td>9.0</td>\n",
       "      <td>4.0</td>\n",
       "      <td>Yes</td>\n",
       "      <td>0</td>\n",
       "    </tr>\n",
       "  </tbody>\n",
       "</table>\n",
       "</div>"
      ],
      "text/plain": [
       "   id      Name  Gender   Age           City Working Professional or Student  \\\n",
       "0   0  Aaradhya  Female  49.0       Ludhiana            Working Professional   \n",
       "1   1     Vivan    Male  26.0       Varanasi            Working Professional   \n",
       "2   2    Yuvraj    Male  33.0  Visakhapatnam                         Student   \n",
       "3   3    Yuvraj    Male  22.0         Mumbai            Working Professional   \n",
       "4   4      Rhea  Female  30.0         Kanpur            Working Professional   \n",
       "\n",
       "         Profession  Academic Pressure  Work Pressure  CGPA  \\\n",
       "0              Chef                NaN            5.0   NaN   \n",
       "1           Teacher                NaN            4.0   NaN   \n",
       "2               NaN                5.0            NaN  8.97   \n",
       "3           Teacher                NaN            5.0   NaN   \n",
       "4  Business Analyst                NaN            1.0   NaN   \n",
       "\n",
       "   Study Satisfaction  Job Satisfaction     Sleep Duration Dietary Habits  \\\n",
       "0                 NaN               2.0  More than 8 hours        Healthy   \n",
       "1                 NaN               3.0  Less than 5 hours      Unhealthy   \n",
       "2                 2.0               NaN          5-6 hours        Healthy   \n",
       "3                 NaN               1.0  Less than 5 hours       Moderate   \n",
       "4                 NaN               1.0          5-6 hours      Unhealthy   \n",
       "\n",
       "    Degree Have you ever had suicidal thoughts ?  Work/Study Hours  \\\n",
       "0      BHM                                    No               1.0   \n",
       "1      LLB                                   Yes               7.0   \n",
       "2  B.Pharm                                   Yes               3.0   \n",
       "3      BBA                                   Yes              10.0   \n",
       "4      BBA                                   Yes               9.0   \n",
       "\n",
       "   Financial Stress Family History of Mental Illness  Depression  \n",
       "0               2.0                               No           0  \n",
       "1               3.0                               No           1  \n",
       "2               1.0                               No           1  \n",
       "3               1.0                              Yes           1  \n",
       "4               4.0                              Yes           0  "
      ]
     },
     "execution_count": 4,
     "metadata": {},
     "output_type": "execute_result"
    }
   ],
   "source": [
    "train.head()"
   ]
  },
  {
   "cell_type": "code",
   "execution_count": 5,
   "id": "0fda8d94-e8d2-4e0b-9779-c418d032d69b",
   "metadata": {},
   "outputs": [
    {
     "data": {
      "text/plain": [
       "id                                            0\n",
       "Name                                          0\n",
       "Gender                                        0\n",
       "Age                                           0\n",
       "City                                          0\n",
       "Working Professional or Student               0\n",
       "Profession                                36630\n",
       "Academic Pressure                        112803\n",
       "Work Pressure                             27918\n",
       "CGPA                                     112802\n",
       "Study Satisfaction                       112803\n",
       "Job Satisfaction                          27910\n",
       "Sleep Duration                                0\n",
       "Dietary Habits                                4\n",
       "Degree                                        2\n",
       "Have you ever had suicidal thoughts ?         0\n",
       "Work/Study Hours                              0\n",
       "Financial Stress                              4\n",
       "Family History of Mental Illness              0\n",
       "Depression                                    0\n",
       "dtype: int64"
      ]
     },
     "execution_count": 5,
     "metadata": {},
     "output_type": "execute_result"
    }
   ],
   "source": [
    "train.isna().sum()"
   ]
  },
  {
   "cell_type": "code",
   "execution_count": 6,
   "id": "70140a1a-42f1-441f-ac00-5e4d5597f4f4",
   "metadata": {},
   "outputs": [
    {
     "data": {
      "text/plain": [
       "(140700, 20)"
      ]
     },
     "execution_count": 6,
     "metadata": {},
     "output_type": "execute_result"
    }
   ],
   "source": [
    "train.shape"
   ]
  },
  {
   "cell_type": "code",
   "execution_count": 7,
   "id": "a11fda59-c402-478d-9d10-5569ecd4ec2d",
   "metadata": {},
   "outputs": [
    {
     "data": {
      "text/plain": [
       "0"
      ]
     },
     "execution_count": 7,
     "metadata": {},
     "output_type": "execute_result"
    }
   ],
   "source": [
    "train.duplicated().sum()"
   ]
  },
  {
   "cell_type": "code",
   "execution_count": 8,
   "id": "f542b8f8-002b-4f3e-b194-d4df853ac422",
   "metadata": {},
   "outputs": [],
   "source": [
    "train.drop(columns=['Academic Pressure', 'CGPA' , 'Study Satisfaction', 'id'], inplace=True)"
   ]
  },
  {
   "cell_type": "code",
   "execution_count": 9,
   "id": "38988ef7-81b2-437a-be0e-8564a700bcb9",
   "metadata": {},
   "outputs": [
    {
     "data": {
      "text/plain": [
       "Index(['Name', 'Gender', 'Age', 'City', 'Working Professional or Student',\n",
       "       'Profession', 'Work Pressure', 'Job Satisfaction', 'Sleep Duration',\n",
       "       'Dietary Habits', 'Degree', 'Have you ever had suicidal thoughts ?',\n",
       "       'Work/Study Hours', 'Financial Stress',\n",
       "       'Family History of Mental Illness', 'Depression'],\n",
       "      dtype='object')"
      ]
     },
     "execution_count": 9,
     "metadata": {},
     "output_type": "execute_result"
    }
   ],
   "source": [
    "train.columns"
   ]
  },
  {
   "cell_type": "code",
   "execution_count": 10,
   "id": "594de5f1-2535-4688-9708-bec27db3bfbc",
   "metadata": {},
   "outputs": [
    {
     "data": {
      "text/plain": [
       "Name                                      object\n",
       "Gender                                    object\n",
       "Age                                      float64\n",
       "City                                      object\n",
       "Working Professional or Student           object\n",
       "Profession                                object\n",
       "Work Pressure                            float64\n",
       "Job Satisfaction                         float64\n",
       "Sleep Duration                            object\n",
       "Dietary Habits                            object\n",
       "Degree                                    object\n",
       "Have you ever had suicidal thoughts ?     object\n",
       "Work/Study Hours                         float64\n",
       "Financial Stress                         float64\n",
       "Family History of Mental Illness          object\n",
       "Depression                                 int64\n",
       "dtype: object"
      ]
     },
     "execution_count": 10,
     "metadata": {},
     "output_type": "execute_result"
    }
   ],
   "source": [
    "train.dtypes"
   ]
  },
  {
   "cell_type": "code",
   "execution_count": 11,
   "id": "fe29ac2c-bce6-4dab-95c2-36b6a312f77d",
   "metadata": {},
   "outputs": [
    {
     "data": {
      "text/plain": [
       "Name                                         0\n",
       "Gender                                       0\n",
       "Age                                          0\n",
       "City                                         0\n",
       "Working Professional or Student              0\n",
       "Profession                               36630\n",
       "Work Pressure                            27918\n",
       "Job Satisfaction                         27910\n",
       "Sleep Duration                               0\n",
       "Dietary Habits                               4\n",
       "Degree                                       2\n",
       "Have you ever had suicidal thoughts ?        0\n",
       "Work/Study Hours                             0\n",
       "Financial Stress                             4\n",
       "Family History of Mental Illness             0\n",
       "Depression                                   0\n",
       "dtype: int64"
      ]
     },
     "execution_count": 11,
     "metadata": {},
     "output_type": "execute_result"
    }
   ],
   "source": [
    "train.isna().sum()"
   ]
  },
  {
   "cell_type": "code",
   "execution_count": 12,
   "id": "c1f2d228-28fc-4be3-9508-ec20b722fbdc",
   "metadata": {},
   "outputs": [],
   "source": [
    "from sklearn.impute import SimpleImputer"
   ]
  },
  {
   "cell_type": "code",
   "execution_count": 13,
   "id": "d5689cb1-4124-414e-9df8-082606d049d7",
   "metadata": {},
   "outputs": [],
   "source": [
    "X = [col for col in train.columns if col not in ['Depression']]\n",
    "Y = ['Depression']"
   ]
  },
  {
   "cell_type": "code",
   "execution_count": 14,
   "id": "0246d147-5436-4d0e-a7fe-bba3a9f3e07d",
   "metadata": {},
   "outputs": [
    {
     "data": {
      "text/plain": [
       "['Name',\n",
       " 'Gender',\n",
       " 'Age',\n",
       " 'City',\n",
       " 'Working Professional or Student',\n",
       " 'Profession',\n",
       " 'Work Pressure',\n",
       " 'Job Satisfaction',\n",
       " 'Sleep Duration',\n",
       " 'Dietary Habits',\n",
       " 'Degree',\n",
       " 'Have you ever had suicidal thoughts ?',\n",
       " 'Work/Study Hours',\n",
       " 'Financial Stress',\n",
       " 'Family History of Mental Illness']"
      ]
     },
     "execution_count": 14,
     "metadata": {},
     "output_type": "execute_result"
    }
   ],
   "source": [
    "X"
   ]
  },
  {
   "cell_type": "code",
   "execution_count": 15,
   "id": "29e1b579-5937-45c4-9c1d-203f0a80ddce",
   "metadata": {},
   "outputs": [
    {
     "data": {
      "text/plain": [
       "['Depression']"
      ]
     },
     "execution_count": 15,
     "metadata": {},
     "output_type": "execute_result"
    }
   ],
   "source": [
    "Y"
   ]
  },
  {
   "cell_type": "code",
   "execution_count": 16,
   "id": "d6951894-38c9-43f3-9dbd-a9904767a4e7",
   "metadata": {},
   "outputs": [],
   "source": [
    "categorial = [col for col in X if train[col].dtype == 'O']\n",
    "numerical = [col for col in X if col not in categorial]"
   ]
  },
  {
   "cell_type": "code",
   "execution_count": 17,
   "id": "7b8d7d56-04f3-40df-a55f-de61568b0c8d",
   "metadata": {},
   "outputs": [
    {
     "data": {
      "text/plain": [
       "['Name',\n",
       " 'Gender',\n",
       " 'City',\n",
       " 'Working Professional or Student',\n",
       " 'Profession',\n",
       " 'Sleep Duration',\n",
       " 'Dietary Habits',\n",
       " 'Degree',\n",
       " 'Have you ever had suicidal thoughts ?',\n",
       " 'Family History of Mental Illness']"
      ]
     },
     "execution_count": 17,
     "metadata": {},
     "output_type": "execute_result"
    }
   ],
   "source": [
    "categorial"
   ]
  },
  {
   "cell_type": "code",
   "execution_count": 18,
   "id": "18620f20-8624-42fa-85df-8d661901d60b",
   "metadata": {},
   "outputs": [
    {
     "data": {
      "text/plain": [
       "['Age',\n",
       " 'Work Pressure',\n",
       " 'Job Satisfaction',\n",
       " 'Work/Study Hours',\n",
       " 'Financial Stress']"
      ]
     },
     "execution_count": 18,
     "metadata": {},
     "output_type": "execute_result"
    }
   ],
   "source": [
    "numerical"
   ]
  },
  {
   "cell_type": "markdown",
   "id": "15f071e6-2524-40ef-9121-167ae7d590aa",
   "metadata": {},
   "source": [
    "# for numerical column"
   ]
  },
  {
   "cell_type": "code",
   "execution_count": 19,
   "id": "53d2901d-44f6-40ca-bd32-c3d9a4450fb8",
   "metadata": {},
   "outputs": [],
   "source": [
    "imputer = SimpleImputer(strategy='mean')"
   ]
  },
  {
   "cell_type": "code",
   "execution_count": 20,
   "id": "c147fd6e-993a-45c0-9848-e5da3eb5aa15",
   "metadata": {},
   "outputs": [],
   "source": [
    "train[numerical] = imputer.fit_transform(train[numerical])"
   ]
  },
  {
   "cell_type": "markdown",
   "id": "da30b997-0654-49a1-9642-3eec5589d2a8",
   "metadata": {},
   "source": [
    "# for categorial column"
   ]
  },
  {
   "cell_type": "code",
   "execution_count": 21,
   "id": "938df236-1c5a-465a-831e-06b46b7bb9c9",
   "metadata": {},
   "outputs": [],
   "source": [
    "imputer = SimpleImputer(strategy='most_frequent')\n",
    "train[categorial] = imputer.fit_transform(train[categorial])"
   ]
  },
  {
   "cell_type": "code",
   "execution_count": 22,
   "id": "fc1a7323-40a6-4a96-ab64-f7b5cae9894f",
   "metadata": {},
   "outputs": [
    {
     "data": {
      "text/plain": [
       "Name                                     0\n",
       "Gender                                   0\n",
       "Age                                      0\n",
       "City                                     0\n",
       "Working Professional or Student          0\n",
       "Profession                               0\n",
       "Work Pressure                            0\n",
       "Job Satisfaction                         0\n",
       "Sleep Duration                           0\n",
       "Dietary Habits                           0\n",
       "Degree                                   0\n",
       "Have you ever had suicidal thoughts ?    0\n",
       "Work/Study Hours                         0\n",
       "Financial Stress                         0\n",
       "Family History of Mental Illness         0\n",
       "Depression                               0\n",
       "dtype: int64"
      ]
     },
     "execution_count": 22,
     "metadata": {},
     "output_type": "execute_result"
    }
   ],
   "source": [
    "train.isna().sum()"
   ]
  },
  {
   "cell_type": "code",
   "execution_count": 23,
   "id": "86a281ce-826e-48c1-8c7e-824ddd621170",
   "metadata": {},
   "outputs": [],
   "source": [
    "from sklearn.preprocessing import LabelEncoder\n",
    "\n",
    "# Initialize the LabelEncoder\n",
    "encoder = LabelEncoder()\n",
    "\n",
    "# Apply LabelEncoder to each categorical column\n",
    "for column in categorial:\n",
    "    train[column] = encoder.fit_transform(train[column])"
   ]
  },
  {
   "cell_type": "code",
   "execution_count": 24,
   "id": "07939f2f-d10a-4445-9448-bd844e02dd33",
   "metadata": {},
   "outputs": [
    {
     "data": {
      "text/html": [
       "<div>\n",
       "<style scoped>\n",
       "    .dataframe tbody tr th:only-of-type {\n",
       "        vertical-align: middle;\n",
       "    }\n",
       "\n",
       "    .dataframe tbody tr th {\n",
       "        vertical-align: top;\n",
       "    }\n",
       "\n",
       "    .dataframe thead th {\n",
       "        text-align: right;\n",
       "    }\n",
       "</style>\n",
       "<table border=\"1\" class=\"dataframe\">\n",
       "  <thead>\n",
       "    <tr style=\"text-align: right;\">\n",
       "      <th></th>\n",
       "      <th>Name</th>\n",
       "      <th>Gender</th>\n",
       "      <th>Age</th>\n",
       "      <th>City</th>\n",
       "      <th>Working Professional or Student</th>\n",
       "      <th>Profession</th>\n",
       "      <th>Work Pressure</th>\n",
       "      <th>Job Satisfaction</th>\n",
       "      <th>Sleep Duration</th>\n",
       "      <th>Dietary Habits</th>\n",
       "      <th>Degree</th>\n",
       "      <th>Have you ever had suicidal thoughts ?</th>\n",
       "      <th>Work/Study Hours</th>\n",
       "      <th>Financial Stress</th>\n",
       "      <th>Family History of Mental Illness</th>\n",
       "      <th>Depression</th>\n",
       "    </tr>\n",
       "  </thead>\n",
       "  <tbody>\n",
       "    <tr>\n",
       "      <th>0</th>\n",
       "      <td>11</td>\n",
       "      <td>0</td>\n",
       "      <td>49.0</td>\n",
       "      <td>50</td>\n",
       "      <td>1</td>\n",
       "      <td>10</td>\n",
       "      <td>5.000000</td>\n",
       "      <td>2.000000</td>\n",
       "      <td>29</td>\n",
       "      <td>7</td>\n",
       "      <td>33</td>\n",
       "      <td>0</td>\n",
       "      <td>1.0</td>\n",
       "      <td>2.0</td>\n",
       "      <td>0</td>\n",
       "      <td>0</td>\n",
       "    </tr>\n",
       "    <tr>\n",
       "      <th>1</th>\n",
       "      <td>407</td>\n",
       "      <td>1</td>\n",
       "      <td>26.0</td>\n",
       "      <td>93</td>\n",
       "      <td>1</td>\n",
       "      <td>55</td>\n",
       "      <td>4.000000</td>\n",
       "      <td>3.000000</td>\n",
       "      <td>27</td>\n",
       "      <td>20</td>\n",
       "      <td>63</td>\n",
       "      <td>1</td>\n",
       "      <td>7.0</td>\n",
       "      <td>3.0</td>\n",
       "      <td>0</td>\n",
       "      <td>1</td>\n",
       "    </tr>\n",
       "    <tr>\n",
       "      <th>2</th>\n",
       "      <td>417</td>\n",
       "      <td>1</td>\n",
       "      <td>33.0</td>\n",
       "      <td>97</td>\n",
       "      <td>0</td>\n",
       "      <td>55</td>\n",
       "      <td>2.998998</td>\n",
       "      <td>2.974404</td>\n",
       "      <td>15</td>\n",
       "      <td>7</td>\n",
       "      <td>21</td>\n",
       "      <td>1</td>\n",
       "      <td>3.0</td>\n",
       "      <td>1.0</td>\n",
       "      <td>0</td>\n",
       "      <td>1</td>\n",
       "    </tr>\n",
       "    <tr>\n",
       "      <th>3</th>\n",
       "      <td>417</td>\n",
       "      <td>1</td>\n",
       "      <td>22.0</td>\n",
       "      <td>64</td>\n",
       "      <td>1</td>\n",
       "      <td>55</td>\n",
       "      <td>5.000000</td>\n",
       "      <td>1.000000</td>\n",
       "      <td>27</td>\n",
       "      <td>15</td>\n",
       "      <td>28</td>\n",
       "      <td>1</td>\n",
       "      <td>10.0</td>\n",
       "      <td>1.0</td>\n",
       "      <td>1</td>\n",
       "      <td>1</td>\n",
       "    </tr>\n",
       "    <tr>\n",
       "      <th>4</th>\n",
       "      <td>286</td>\n",
       "      <td>0</td>\n",
       "      <td>30.0</td>\n",
       "      <td>37</td>\n",
       "      <td>1</td>\n",
       "      <td>9</td>\n",
       "      <td>1.000000</td>\n",
       "      <td>1.000000</td>\n",
       "      <td>15</td>\n",
       "      <td>20</td>\n",
       "      <td>28</td>\n",
       "      <td>1</td>\n",
       "      <td>9.0</td>\n",
       "      <td>4.0</td>\n",
       "      <td>1</td>\n",
       "      <td>0</td>\n",
       "    </tr>\n",
       "  </tbody>\n",
       "</table>\n",
       "</div>"
      ],
      "text/plain": [
       "   Name  Gender   Age  City  Working Professional or Student  Profession  \\\n",
       "0    11       0  49.0    50                                1          10   \n",
       "1   407       1  26.0    93                                1          55   \n",
       "2   417       1  33.0    97                                0          55   \n",
       "3   417       1  22.0    64                                1          55   \n",
       "4   286       0  30.0    37                                1           9   \n",
       "\n",
       "   Work Pressure  Job Satisfaction  Sleep Duration  Dietary Habits  Degree  \\\n",
       "0       5.000000          2.000000              29               7      33   \n",
       "1       4.000000          3.000000              27              20      63   \n",
       "2       2.998998          2.974404              15               7      21   \n",
       "3       5.000000          1.000000              27              15      28   \n",
       "4       1.000000          1.000000              15              20      28   \n",
       "\n",
       "   Have you ever had suicidal thoughts ?  Work/Study Hours  Financial Stress  \\\n",
       "0                                      0               1.0               2.0   \n",
       "1                                      1               7.0               3.0   \n",
       "2                                      1               3.0               1.0   \n",
       "3                                      1              10.0               1.0   \n",
       "4                                      1               9.0               4.0   \n",
       "\n",
       "   Family History of Mental Illness  Depression  \n",
       "0                                 0           0  \n",
       "1                                 0           1  \n",
       "2                                 0           1  \n",
       "3                                 1           1  \n",
       "4                                 1           0  "
      ]
     },
     "execution_count": 24,
     "metadata": {},
     "output_type": "execute_result"
    }
   ],
   "source": [
    "train.head()"
   ]
  },
  {
   "cell_type": "code",
   "execution_count": 25,
   "id": "8dd3c1f4-a4c7-4edd-9d74-9aa68e488d08",
   "metadata": {},
   "outputs": [],
   "source": [
    "x = train.iloc[:,:-1]\n",
    "y = train.iloc[:,-1]"
   ]
  },
  {
   "cell_type": "code",
   "execution_count": 26,
   "id": "e0b85671-4013-4e46-a768-ebbac5aa2b42",
   "metadata": {},
   "outputs": [
    {
     "data": {
      "text/plain": [
       "(140700, 15)"
      ]
     },
     "execution_count": 26,
     "metadata": {},
     "output_type": "execute_result"
    }
   ],
   "source": [
    "x.shape"
   ]
  },
  {
   "cell_type": "code",
   "execution_count": 27,
   "id": "9d3d6544-08c7-43fc-a04d-fd7c2afd7661",
   "metadata": {},
   "outputs": [
    {
     "data": {
      "text/plain": [
       "(140700,)"
      ]
     },
     "execution_count": 27,
     "metadata": {},
     "output_type": "execute_result"
    }
   ],
   "source": [
    "y.shape"
   ]
  },
  {
   "cell_type": "code",
   "execution_count": 28,
   "id": "17148c71-b10a-476f-b4fe-dc212a8b3b9b",
   "metadata": {},
   "outputs": [],
   "source": [
    "from sklearn.model_selection import train_test_split, cross_val_score"
   ]
  },
  {
   "cell_type": "code",
   "execution_count": 29,
   "id": "c86be491-1b0d-4b8b-8e0a-d80fd450a5a2",
   "metadata": {},
   "outputs": [],
   "source": [
    "X_train, X_test, y_train, y_test = train_test_split(x, y, test_size=0.2, random_state=42)"
   ]
  },
  {
   "cell_type": "code",
   "execution_count": 30,
   "id": "31c9173c-60b5-4bad-b94f-48c93c0b6a54",
   "metadata": {},
   "outputs": [
    {
     "data": {
      "text/plain": [
       "(112560, 15)"
      ]
     },
     "execution_count": 30,
     "metadata": {},
     "output_type": "execute_result"
    }
   ],
   "source": [
    "X_train.shape"
   ]
  },
  {
   "cell_type": "code",
   "execution_count": 31,
   "id": "a96d8bf2-a81c-4121-acd9-eb5627092927",
   "metadata": {},
   "outputs": [
    {
     "data": {
      "text/plain": [
       "(112560,)"
      ]
     },
     "execution_count": 31,
     "metadata": {},
     "output_type": "execute_result"
    }
   ],
   "source": [
    "y_train.shape"
   ]
  },
  {
   "cell_type": "code",
   "execution_count": 32,
   "id": "150db7bb-8b43-4ec7-a472-bdb3ac74addb",
   "metadata": {},
   "outputs": [
    {
     "data": {
      "text/plain": [
       "(28140, 15)"
      ]
     },
     "execution_count": 32,
     "metadata": {},
     "output_type": "execute_result"
    }
   ],
   "source": [
    "X_test.shape"
   ]
  },
  {
   "cell_type": "code",
   "execution_count": 33,
   "id": "d6f9db0c-7867-42e2-ab6d-861ddb709f37",
   "metadata": {},
   "outputs": [
    {
     "data": {
      "text/plain": [
       "(28140,)"
      ]
     },
     "execution_count": 33,
     "metadata": {},
     "output_type": "execute_result"
    }
   ],
   "source": [
    "y_test.shape"
   ]
  },
  {
   "cell_type": "code",
   "execution_count": 34,
   "id": "4cc71a4d-5df2-4dcb-ac9b-d12d48216318",
   "metadata": {},
   "outputs": [],
   "source": [
    "#model building\n",
    "from sklearn.svm import SVC\n",
    "from sklearn.naive_bayes import GaussianNB\n",
    "from sklearn.ensemble import RandomForestClassifier"
   ]
  },
  {
   "cell_type": "code",
   "execution_count": 38,
   "id": "813bfe5c-8c17-4af3-84ae-bfd3c0a8797e",
   "metadata": {},
   "outputs": [],
   "source": [
    "from sklearn.metrics import classification_report, accuracy_score \n",
    "from sklearn.metrics import precision_score, recall_score\n",
    "from sklearn.metrics import f1_score, matthews_corrcoef\n",
    "from sklearn.metrics import confusion_matrix"
   ]
  },
  {
   "cell_type": "code",
   "execution_count": 36,
   "id": "e876da24-50e2-4d01-b107-8a211f35ca99",
   "metadata": {},
   "outputs": [],
   "source": [
    "# Determine number of Depressed cases in dataset\n",
    "depressed = train[train['Depression'] == 1]\n",
    "not_depressed = train[train['Depression'] == 0]"
   ]
  },
  {
   "cell_type": "code",
   "execution_count": 37,
   "id": "5394cba7-3a2e-4e1b-a8aa-30a0fe45115f",
   "metadata": {},
   "outputs": [
    {
     "name": "stdout",
     "output_type": "stream",
     "text": [
      "0.22206491622731972\n",
      "depressed: 25567\n",
      "not_depressed: 115133\n"
     ]
    }
   ],
   "source": [
    "outlierFraction = len(depressed)/(len(not_depressed))\n",
    "print(outlierFraction)\n",
    "\n",
    "print('depressed: {}'.format(len(depressed)))\n",
    "print('not_depressed: {}'.format(len(not_depressed)))"
   ]
  },
  {
   "cell_type": "code",
   "execution_count": 39,
   "id": "46b6f2eb-b32a-4bf4-89e2-8f345539089b",
   "metadata": {},
   "outputs": [],
   "source": [
    "# Building the Random Forest Classifier (RANDOM FOREST)\n",
    "\n",
    "rfc = RandomForestClassifier()\n",
    "rfc.fit(X_train, y_train)\n",
    "\n",
    "# predictions\n",
    "yPred = rfc.predict(X_test)"
   ]
  },
  {
   "cell_type": "code",
   "execution_count": 40,
   "id": "f515cf88-fe18-4b37-b330-9fcb778aa70f",
   "metadata": {},
   "outputs": [
    {
     "name": "stdout",
     "output_type": "stream",
     "text": [
      "The model used is Random Forest classifier\n",
      "The accuracy is 0.9284648187633262\n",
      "The precision is 0.820706555033694\n",
      "The recall is 0.7797826930539387\n",
      "The F1-Score is 0.7997214207541539\n",
      "The Matthews correlation coefficient is0.7565785286920897\n"
     ]
    }
   ],
   "source": [
    "print(\"The model used is Random Forest classifier\")\n",
    "\n",
    "acc = accuracy_score(y_test, yPred)\n",
    "print(\"The accuracy is {}\".format(acc))\n",
    "\n",
    "prec = precision_score(y_test, yPred)\n",
    "print(\"The precision is {}\".format(prec))\n",
    "\n",
    "rec = recall_score(y_test, yPred)\n",
    "print(\"The recall is {}\".format(rec))\n",
    "\n",
    "f1 = f1_score(y_test, yPred)\n",
    "print(\"The F1-Score is {}\".format(f1))\n",
    "\n",
    "MCC = matthews_corrcoef(y_test, yPred)\n",
    "print(\"The Matthews correlation coefficient is{}\".format(MCC))"
   ]
  },
  {
   "cell_type": "code",
   "execution_count": 42,
   "id": "c11999b0-4e9a-4444-92c0-0d97fe8bd869",
   "metadata": {},
   "outputs": [],
   "source": [
    "import matplotlib.pyplot as plt\n",
    "import seaborn as sns\n",
    "from matplotlib import gridspec"
   ]
  },
  {
   "cell_type": "code",
   "execution_count": 43,
   "id": "cb236a73-f74a-4b8f-8fbf-9aaafdafdf32",
   "metadata": {},
   "outputs": [
    {
     "data": {
      "image/png": "[encoded data removed]",
      "text/plain": [
       "<Figure size 1200x1200 with 2 Axes>"
      ]
     },
     "metadata": {},
     "output_type": "display_data"
    }
   ],
   "source": [
    "# printing the confusion matrix\n",
    "LABELS = ['not_depressed', 'depressed']\n",
    "\n",
    "conf_matrix = confusion_matrix(y_test, yPred)\n",
    "plt.figure(figsize =(12, 12))\n",
    "sns.heatmap(conf_matrix, xticklabels = LABELS, \n",
    "            yticklabels = LABELS, annot = True, fmt =\"d\");\n",
    "plt.title(\"Confusion matrix\")\n",
    "plt.ylabel('True class')\n",
    "plt.xlabel('Predicted class')\n",
    "plt.show()"
   ]
  },
  {
   "cell_type": "code",
   "execution_count": 44,
   "id": "c0e5d58e-484b-4397-8cd2-0c42b32b16d9",
   "metadata": {},
   "outputs": [
    {
     "name": "stderr",
     "output_type": "stream",
     "text": [
      "C:\\Users\\cchin\\anaconda3\\Lib\\site-packages\\sklearn\\linear_model\\_logistic.py:469: ConvergenceWarning: lbfgs failed to converge (status=1):\n",
      "STOP: TOTAL NO. of ITERATIONS REACHED LIMIT.\n",
      "\n",
      "Increase the number of iterations (max_iter) or scale the data as shown in:\n",
      "    https://scikit-learn.org/stable/modules/preprocessing.html\n",
      "Please also refer to the documentation for alternative solver options:\n",
      "    https://scikit-learn.org/stable/modules/linear_model.html#logistic-regression\n",
      "  n_iter_i = _check_optimize_result(\n"
     ]
    }
   ],
   "source": [
    "from sklearn.linear_model import LogisticRegression\n",
    "model = LogisticRegression(max_iter=1000, solver='lbfgs', random_state=42)\n",
    "model.fit(X_train, y_train)\n",
    "yPred = model.predict(X_test)"
   ]
  },
  {
   "cell_type": "code",
   "execution_count": 45,
   "id": "16edbfa6-5478-4977-bee6-d49aae311de1",
   "metadata": {},
   "outputs": [
    {
     "name": "stdout",
     "output_type": "stream",
     "text": [
      "The model used is Logestic Regression\n",
      "The accuracy is 0.9271144278606965\n",
      "The precision is 0.814387031408308\n",
      "The recall is 0.7797826930539387\n",
      "The F1-Score is 0.7967092873426505\n",
      "The Matthews correlation coefficient is0.7525953977776819\n"
     ]
    }
   ],
   "source": [
    "print(\"The model used is Logestic Regression\")\n",
    "\n",
    "acc = accuracy_score(y_test, yPred)\n",
    "print(\"The accuracy is {}\".format(acc))\n",
    "\n",
    "prec = precision_score(y_test, yPred)\n",
    "print(\"The precision is {}\".format(prec))\n",
    "\n",
    "rec = recall_score(y_test, yPred)\n",
    "print(\"The recall is {}\".format(rec))\n",
    "\n",
    "f1 = f1_score(y_test, yPred)\n",
    "print(\"The F1-Score is {}\".format(f1))\n",
    "\n",
    "MCC = matthews_corrcoef(y_test, yPred)\n",
    "print(\"The Matthews correlation coefficient is{}\".format(MCC))"
   ]
  },
  {
   "cell_type": "code",
   "execution_count": 47,
   "id": "401eb9ad-94fa-4dfb-8507-99776cb8ecda",
   "metadata": {},
   "outputs": [
    {
     "name": "stdout",
     "output_type": "stream",
     "text": [
      "Collecting xgboost\n",
      "  Downloading xgboost-2.1.3-py3-none-win_amd64.whl.metadata (2.1 kB)\n",
      "Requirement already satisfied: numpy in c:\\users\\cchin\\anaconda3\\lib\\site-packages (from xgboost) (1.26.4)\n",
      "Requirement already satisfied: scipy in c:\\users\\cchin\\anaconda3\\lib\\site-packages (from xgboost) (1.13.1)\n",
      "Downloading xgboost-2.1.3-py3-none-win_amd64.whl (124.9 MB)\n",
      "   ---------------------------------------- 0.0/124.9 MB ? eta -:--:--\n",
      "   ---------------------------------------- 0.0/124.9 MB ? eta -:--:--\n",
      "   ---------------------------------------- 0.0/124.9 MB 325.1 kB/s eta 0:06:25\n",
      "   ---------------------------------------- 0.1/124.9 MB 409.6 kB/s eta 0:05:05\n",
      "   ---------------------------------------- 0.1/124.9 MB 416.7 kB/s eta 0:05:00\n",
      "   ---------------------------------------- 0.1/124.9 MB 476.3 kB/s eta 0:04:23\n",
      "   ---------------------------------------- 0.2/124.9 MB 615.9 kB/s eta 0:03:23\n",
      "   ---------------------------------------- 0.2/124.9 MB 687.0 kB/s eta 0:03:02\n",
      "   ---------------------------------------- 0.3/124.9 MB 739.6 kB/s eta 0:02:49\n",
      "   ---------------------------------------- 0.3/124.9 MB 805.1 kB/s eta 0:02:35\n",
      "   ---------------------------------------- 0.4/124.9 MB 879.6 kB/s eta 0:02:22\n",
      "   ---------------------------------------- 0.5/124.9 MB 938.8 kB/s eta 0:02:13\n",
      "   ---------------------------------------- 0.5/124.9 MB 898.6 kB/s eta 0:02:19\n",
      "   ---------------------------------------- 0.6/124.9 MB 992.2 kB/s eta 0:02:06\n",
      "   ---------------------------------------- 0.6/124.9 MB 942.5 kB/s eta 0:02:12\n",
      "   ---------------------------------------- 0.7/124.9 MB 1.0 MB/s eta 0:02:01\n",
      "   ---------------------------------------- 0.8/124.9 MB 1.0 MB/s eta 0:01:59\n",
      "   ---------------------------------------- 0.9/124.9 MB 1.1 MB/s eta 0:01:49\n",
      "   ---------------------------------------- 1.0/124.9 MB 1.2 MB/s eta 0:01:45\n",
      "   ---------------------------------------- 1.1/124.9 MB 1.2 MB/s eta 0:01:41\n",
      "   ---------------------------------------- 1.1/124.9 MB 1.2 MB/s eta 0:01:42\n",
      "   ---------------------------------------- 1.2/124.9 MB 1.3 MB/s eta 0:01:39\n",
      "   ---------------------------------------- 1.3/124.9 MB 1.3 MB/s eta 0:01:39\n",
      "   ---------------------------------------- 1.4/124.9 MB 1.3 MB/s eta 0:01:35\n",
      "   ---------------------------------------- 1.4/124.9 MB 1.3 MB/s eta 0:01:35\n",
      "   ---------------------------------------- 1.5/124.9 MB 1.3 MB/s eta 0:01:34\n",
      "    --------------------------------------- 1.6/124.9 MB 1.3 MB/s eta 0:01:33\n",
      "    --------------------------------------- 1.7/124.9 MB 1.4 MB/s eta 0:01:31\n",
      "    --------------------------------------- 1.8/124.9 MB 1.4 MB/s eta 0:01:31\n",
      "    --------------------------------------- 1.8/124.9 MB 1.4 MB/s eta 0:01:28\n",
      "    --------------------------------------- 1.9/124.9 MB 1.4 MB/s eta 0:01:31\n",
      "    --------------------------------------- 2.0/124.9 MB 1.4 MB/s eta 0:01:30\n",
      "    --------------------------------------- 2.0/124.9 MB 1.4 MB/s eta 0:01:29\n",
      "    --------------------------------------- 2.1/124.9 MB 1.4 MB/s eta 0:01:28\n",
      "    --------------------------------------- 2.2/124.9 MB 1.4 MB/s eta 0:01:29\n",
      "    --------------------------------------- 2.2/124.9 MB 1.4 MB/s eta 0:01:29\n",
      "    --------------------------------------- 2.3/124.9 MB 1.4 MB/s eta 0:01:29\n",
      "    --------------------------------------- 2.4/124.9 MB 1.4 MB/s eta 0:01:27\n",
      "    --------------------------------------- 2.4/124.9 MB 1.4 MB/s eta 0:01:28\n",
      "    --------------------------------------- 2.5/124.9 MB 1.4 MB/s eta 0:01:27\n",
      "    --------------------------------------- 2.7/124.9 MB 1.5 MB/s eta 0:01:24\n",
      "    --------------------------------------- 2.7/124.9 MB 1.4 MB/s eta 0:01:25\n",
      "    --------------------------------------- 2.9/124.9 MB 1.5 MB/s eta 0:01:23\n",
      "    --------------------------------------- 2.9/124.9 MB 1.5 MB/s eta 0:01:22\n",
      "    --------------------------------------- 2.9/124.9 MB 1.5 MB/s eta 0:01:22\n",
      "   - -------------------------------------- 3.2/124.9 MB 1.5 MB/s eta 0:01:20\n",
      "   - -------------------------------------- 3.2/124.9 MB 1.5 MB/s eta 0:01:20\n",
      "   - -------------------------------------- 3.2/124.9 MB 1.5 MB/s eta 0:01:23\n",
      "   - -------------------------------------- 3.3/124.9 MB 1.5 MB/s eta 0:01:22\n",
      "   - -------------------------------------- 3.4/124.9 MB 1.5 MB/s eta 0:01:21\n",
      "   - -------------------------------------- 3.5/124.9 MB 1.5 MB/s eta 0:01:20\n",
      "   - -------------------------------------- 3.5/124.9 MB 1.5 MB/s eta 0:01:19\n",
      "   - -------------------------------------- 3.7/124.9 MB 1.5 MB/s eta 0:01:20\n",
      "   - -------------------------------------- 3.8/124.9 MB 1.6 MB/s eta 0:01:18\n",
      "   - -------------------------------------- 3.9/124.9 MB 1.5 MB/s eta 0:01:19\n",
      "   - -------------------------------------- 4.0/124.9 MB 1.6 MB/s eta 0:01:17\n",
      "   - -------------------------------------- 4.1/124.9 MB 1.6 MB/s eta 0:01:17\n",
      "   - -------------------------------------- 4.3/124.9 MB 1.6 MB/s eta 0:01:14\n",
      "   - -------------------------------------- 4.3/124.9 MB 1.6 MB/s eta 0:01:14\n",
      "   - -------------------------------------- 4.4/124.9 MB 1.6 MB/s eta 0:01:14\n",
      "   - -------------------------------------- 4.5/124.9 MB 1.6 MB/s eta 0:01:14\n",
      "   - -------------------------------------- 4.7/124.9 MB 1.7 MB/s eta 0:01:12\n",
      "   - -------------------------------------- 4.8/124.9 MB 1.7 MB/s eta 0:01:12\n",
      "   - -------------------------------------- 5.0/124.9 MB 1.7 MB/s eta 0:01:10\n",
      "   - -------------------------------------- 5.2/124.9 MB 1.8 MB/s eta 0:01:09\n",
      "   - -------------------------------------- 5.4/124.9 MB 1.8 MB/s eta 0:01:07\n",
      "   - -------------------------------------- 5.6/124.9 MB 1.8 MB/s eta 0:01:06\n",
      "   - -------------------------------------- 5.7/124.9 MB 1.8 MB/s eta 0:01:06\n",
      "   - -------------------------------------- 5.9/124.9 MB 1.9 MB/s eta 0:01:04\n",
      "   - -------------------------------------- 6.1/124.9 MB 1.9 MB/s eta 0:01:03\n",
      "   - -------------------------------------- 6.2/124.9 MB 1.9 MB/s eta 0:01:02\n",
      "   -- ------------------------------------- 6.5/124.9 MB 2.0 MB/s eta 0:01:00\n",
      "   -- ------------------------------------- 6.7/124.9 MB 2.0 MB/s eta 0:01:00\n",
      "   -- ------------------------------------- 7.0/124.9 MB 2.1 MB/s eta 0:00:58\n",
      "   -- ------------------------------------- 7.2/124.9 MB 2.1 MB/s eta 0:00:57\n",
      "   -- ------------------------------------- 7.2/124.9 MB 2.1 MB/s eta 0:00:57\n",
      "   -- ------------------------------------- 7.5/124.9 MB 2.1 MB/s eta 0:00:56\n",
      "   -- ------------------------------------- 7.7/124.9 MB 2.1 MB/s eta 0:00:55\n",
      "   -- ------------------------------------- 7.7/124.9 MB 2.1 MB/s eta 0:00:55\n",
      "   -- ------------------------------------- 8.3/124.9 MB 2.3 MB/s eta 0:00:52\n",
      "   -- ------------------------------------- 8.6/124.9 MB 2.3 MB/s eta 0:00:51\n",
      "   -- ------------------------------------- 8.8/124.9 MB 2.3 MB/s eta 0:00:50\n",
      "   -- ------------------------------------- 9.0/124.9 MB 2.4 MB/s eta 0:00:50\n",
      "   -- ------------------------------------- 9.1/124.9 MB 2.3 MB/s eta 0:00:50\n",
      "   --- ------------------------------------ 9.4/124.9 MB 2.4 MB/s eta 0:00:49\n",
      "   --- ------------------------------------ 9.6/124.9 MB 2.4 MB/s eta 0:00:48\n",
      "   --- ------------------------------------ 9.9/124.9 MB 2.5 MB/s eta 0:00:47\n",
      "   --- ------------------------------------ 10.0/124.9 MB 2.5 MB/s eta 0:00:47\n",
      "   --- ------------------------------------ 10.3/124.9 MB 2.6 MB/s eta 0:00:45\n",
      "   --- ------------------------------------ 10.6/124.9 MB 2.7 MB/s eta 0:00:42\n",
      "   --- ------------------------------------ 10.8/124.9 MB 2.8 MB/s eta 0:00:41\n",
      "   --- ------------------------------------ 10.8/124.9 MB 2.8 MB/s eta 0:00:41\n",
      "   --- ------------------------------------ 10.8/124.9 MB 2.8 MB/s eta 0:00:41\n",
      "   --- ------------------------------------ 11.5/124.9 MB 3.0 MB/s eta 0:00:38\n",
      "   --- ------------------------------------ 11.8/124.9 MB 3.2 MB/s eta 0:00:36\n",
      "   --- ------------------------------------ 12.0/124.9 MB 3.2 MB/s eta 0:00:35\n",
      "   --- ------------------------------------ 12.3/124.9 MB 3.4 MB/s eta 0:00:33\n",
      "   --- ------------------------------------ 12.3/124.9 MB 3.4 MB/s eta 0:00:34\n",
      "   --- ------------------------------------ 12.3/124.9 MB 3.4 MB/s eta 0:00:34\n",
      "   ---- ----------------------------------- 12.6/124.9 MB 3.5 MB/s eta 0:00:32\n",
      "   ---- ----------------------------------- 12.9/124.9 MB 3.6 MB/s eta 0:00:31\n",
      "   ---- ----------------------------------- 13.0/124.9 MB 3.6 MB/s eta 0:00:31\n",
      "   ---- ----------------------------------- 13.4/124.9 MB 3.8 MB/s eta 0:00:30\n",
      "   ---- ----------------------------------- 13.6/124.9 MB 3.9 MB/s eta 0:00:29\n",
      "   ---- ----------------------------------- 13.9/124.9 MB 4.1 MB/s eta 0:00:27\n",
      "   ---- ----------------------------------- 14.0/124.9 MB 4.1 MB/s eta 0:00:27\n",
      "   ---- ----------------------------------- 14.1/124.9 MB 4.1 MB/s eta 0:00:27\n",
      "   ---- ----------------------------------- 14.4/124.9 MB 4.3 MB/s eta 0:00:26\n",
      "   ---- ----------------------------------- 14.7/124.9 MB 4.4 MB/s eta 0:00:25\n",
      "   ---- ----------------------------------- 14.9/124.9 MB 4.4 MB/s eta 0:00:26\n",
      "   ---- ----------------------------------- 15.2/124.9 MB 4.5 MB/s eta 0:00:25\n",
      "   ---- ----------------------------------- 15.5/124.9 MB 4.6 MB/s eta 0:00:24\n",
      "   ----- ---------------------------------- 15.8/124.9 MB 4.6 MB/s eta 0:00:24\n",
      "   ----- ---------------------------------- 16.0/124.9 MB 4.7 MB/s eta 0:00:23\n",
      "   ----- ---------------------------------- 16.1/124.9 MB 4.6 MB/s eta 0:00:24\n",
      "   ----- ---------------------------------- 16.4/124.9 MB 4.7 MB/s eta 0:00:24\n",
      "   ----- ---------------------------------- 16.4/124.9 MB 4.7 MB/s eta 0:00:24\n",
      "   ----- ---------------------------------- 16.9/124.9 MB 4.7 MB/s eta 0:00:23\n",
      "   ----- ---------------------------------- 17.3/124.9 MB 4.8 MB/s eta 0:00:23\n",
      "   ----- ---------------------------------- 17.4/124.9 MB 4.8 MB/s eta 0:00:23\n",
      "   ----- ---------------------------------- 17.8/124.9 MB 4.9 MB/s eta 0:00:22\n",
      "   ----- ---------------------------------- 17.8/124.9 MB 4.9 MB/s eta 0:00:23\n",
      "   ----- ---------------------------------- 18.0/124.9 MB 4.8 MB/s eta 0:00:23\n",
      "   ----- ---------------------------------- 18.3/124.9 MB 4.7 MB/s eta 0:00:23\n",
      "   ----- ---------------------------------- 18.5/124.9 MB 4.7 MB/s eta 0:00:23\n",
      "   ------ --------------------------------- 18.8/124.9 MB 4.7 MB/s eta 0:00:23\n",
      "   ------ --------------------------------- 19.0/124.9 MB 4.7 MB/s eta 0:00:23\n",
      "   ------ --------------------------------- 19.4/124.9 MB 4.9 MB/s eta 0:00:22\n",
      "   ------ --------------------------------- 19.4/124.9 MB 4.9 MB/s eta 0:00:22\n",
      "   ------ --------------------------------- 19.5/124.9 MB 4.7 MB/s eta 0:00:23\n",
      "   ------ --------------------------------- 19.8/124.9 MB 4.7 MB/s eta 0:00:23\n",
      "   ------ --------------------------------- 19.9/124.9 MB 4.7 MB/s eta 0:00:23\n",
      "   ------ --------------------------------- 20.1/124.9 MB 4.6 MB/s eta 0:00:23\n",
      "   ------ --------------------------------- 20.4/124.9 MB 4.7 MB/s eta 0:00:23\n",
      "   ------ --------------------------------- 20.7/124.9 MB 4.7 MB/s eta 0:00:23\n",
      "   ------ --------------------------------- 21.0/124.9 MB 5.1 MB/s eta 0:00:21\n",
      "   ------ --------------------------------- 21.0/124.9 MB 5.1 MB/s eta 0:00:21\n",
      "   ------ --------------------------------- 21.2/124.9 MB 4.9 MB/s eta 0:00:22\n",
      "   ------ --------------------------------- 21.5/124.9 MB 4.7 MB/s eta 0:00:22\n",
      "   ------ --------------------------------- 21.7/124.9 MB 4.7 MB/s eta 0:00:22\n",
      "   ------- -------------------------------- 21.9/124.9 MB 4.6 MB/s eta 0:00:23\n",
      "   ------- -------------------------------- 22.0/124.9 MB 4.6 MB/s eta 0:00:23\n",
      "   ------- -------------------------------- 22.3/124.9 MB 4.6 MB/s eta 0:00:23\n",
      "   ------- -------------------------------- 22.6/124.9 MB 4.8 MB/s eta 0:00:22\n",
      "   ------- -------------------------------- 22.7/124.9 MB 4.8 MB/s eta 0:00:22\n",
      "   ------- -------------------------------- 22.7/124.9 MB 4.8 MB/s eta 0:00:22\n",
      "   ------- -------------------------------- 22.7/124.9 MB 4.8 MB/s eta 0:00:22\n",
      "   ------- -------------------------------- 23.3/124.9 MB 4.7 MB/s eta 0:00:22\n",
      "   ------- -------------------------------- 23.3/124.9 MB 4.7 MB/s eta 0:00:22\n",
      "   ------- -------------------------------- 23.6/124.9 MB 4.6 MB/s eta 0:00:22\n",
      "   ------- -------------------------------- 23.8/124.9 MB 4.6 MB/s eta 0:00:22\n",
      "   ------- -------------------------------- 24.0/124.9 MB 4.5 MB/s eta 0:00:23\n",
      "   ------- -------------------------------- 24.1/124.9 MB 4.5 MB/s eta 0:00:23\n",
      "   ------- -------------------------------- 24.2/124.9 MB 4.5 MB/s eta 0:00:23\n",
      "   ------- -------------------------------- 24.5/124.9 MB 4.6 MB/s eta 0:00:22\n",
      "   ------- -------------------------------- 24.7/124.9 MB 4.6 MB/s eta 0:00:22\n",
      "   ------- -------------------------------- 24.9/124.9 MB 4.5 MB/s eta 0:00:22\n",
      "   -------- ------------------------------- 25.0/124.9 MB 4.5 MB/s eta 0:00:23\n",
      "   -------- ------------------------------- 25.3/124.9 MB 4.5 MB/s eta 0:00:23\n",
      "   -------- ------------------------------- 25.5/124.9 MB 4.5 MB/s eta 0:00:23\n",
      "   -------- ------------------------------- 25.5/124.9 MB 4.5 MB/s eta 0:00:23\n",
      "   -------- ------------------------------- 25.5/124.9 MB 4.5 MB/s eta 0:00:23\n",
      "   -------- ------------------------------- 25.5/124.9 MB 4.5 MB/s eta 0:00:23\n",
      "   -------- ------------------------------- 25.6/124.9 MB 4.2 MB/s eta 0:00:24\n",
      "   -------- ------------------------------- 25.9/124.9 MB 4.2 MB/s eta 0:00:24\n",
      "   -------- ------------------------------- 26.0/124.9 MB 4.1 MB/s eta 0:00:24\n",
      "   -------- ------------------------------- 26.1/124.9 MB 4.1 MB/s eta 0:00:25\n",
      "   -------- ------------------------------- 26.3/124.9 MB 4.1 MB/s eta 0:00:25\n",
      "   -------- ------------------------------- 26.4/124.9 MB 4.1 MB/s eta 0:00:25\n",
      "   -------- ------------------------------- 26.6/124.9 MB 4.0 MB/s eta 0:00:25\n",
      "   -------- ------------------------------- 26.8/124.9 MB 4.1 MB/s eta 0:00:24\n",
      "   -------- ------------------------------- 27.0/124.9 MB 4.0 MB/s eta 0:00:25\n",
      "   -------- ------------------------------- 27.2/124.9 MB 4.0 MB/s eta 0:00:25\n",
      "   -------- ------------------------------- 27.3/124.9 MB 4.0 MB/s eta 0:00:25\n",
      "   -------- ------------------------------- 27.4/124.9 MB 3.9 MB/s eta 0:00:25\n",
      "   -------- ------------------------------- 27.8/124.9 MB 3.9 MB/s eta 0:00:25\n",
      "   -------- ------------------------------- 27.9/124.9 MB 3.9 MB/s eta 0:00:25\n",
      "   -------- ------------------------------- 28.0/124.9 MB 4.0 MB/s eta 0:00:25\n",
      "   --------- ------------------------------ 28.3/124.9 MB 3.9 MB/s eta 0:00:25\n",
      "   --------- ------------------------------ 28.5/124.9 MB 3.9 MB/s eta 0:00:25\n",
      "   --------- ------------------------------ 28.8/124.9 MB 3.9 MB/s eta 0:00:25\n",
      "   --------- ------------------------------ 29.0/124.9 MB 3.9 MB/s eta 0:00:25\n",
      "   --------- ------------------------------ 29.2/124.9 MB 3.9 MB/s eta 0:00:25\n",
      "   --------- ------------------------------ 29.5/124.9 MB 3.9 MB/s eta 0:00:25\n",
      "   --------- ------------------------------ 29.6/124.9 MB 3.9 MB/s eta 0:00:25\n",
      "   --------- ------------------------------ 29.8/124.9 MB 3.9 MB/s eta 0:00:25\n",
      "   --------- ------------------------------ 30.1/124.9 MB 3.9 MB/s eta 0:00:25\n",
      "   --------- ------------------------------ 30.3/124.9 MB 4.0 MB/s eta 0:00:24\n",
      "   --------- ------------------------------ 30.5/124.9 MB 4.0 MB/s eta 0:00:24\n",
      "   --------- ------------------------------ 30.9/124.9 MB 4.0 MB/s eta 0:00:24\n",
      "   --------- ------------------------------ 31.1/124.9 MB 4.0 MB/s eta 0:00:24\n",
      "   ---------- ----------------------------- 31.4/124.9 MB 4.1 MB/s eta 0:00:23\n",
      "   ---------- ----------------------------- 31.4/124.9 MB 4.1 MB/s eta 0:00:23\n",
      "   ---------- ----------------------------- 31.7/124.9 MB 4.0 MB/s eta 0:00:24\n",
      "   ---------- ----------------------------- 31.8/124.9 MB 3.9 MB/s eta 0:00:24\n",
      "   ---------- ----------------------------- 32.0/124.9 MB 3.9 MB/s eta 0:00:24\n",
      "   ---------- ----------------------------- 32.2/124.9 MB 4.0 MB/s eta 0:00:24\n",
      "   ---------- ----------------------------- 32.3/124.9 MB 4.0 MB/s eta 0:00:24\n",
      "   ---------- ----------------------------- 32.5/124.9 MB 3.9 MB/s eta 0:00:24\n",
      "   ---------- ----------------------------- 32.7/124.9 MB 3.9 MB/s eta 0:00:24\n",
      "   ---------- ----------------------------- 32.8/124.9 MB 3.9 MB/s eta 0:00:24\n",
      "   ---------- ----------------------------- 33.1/124.9 MB 4.0 MB/s eta 0:00:23\n",
      "   ---------- ----------------------------- 33.3/124.9 MB 3.9 MB/s eta 0:00:24\n",
      "   ---------- ----------------------------- 33.3/124.9 MB 3.9 MB/s eta 0:00:24\n",
      "   ---------- ----------------------------- 33.8/124.9 MB 4.0 MB/s eta 0:00:23\n",
      "   ---------- ----------------------------- 34.1/124.9 MB 4.0 MB/s eta 0:00:23\n",
      "   ----------- ---------------------------- 34.4/124.9 MB 4.1 MB/s eta 0:00:22\n",
      "   ----------- ---------------------------- 34.6/124.9 MB 4.1 MB/s eta 0:00:22\n",
      "   ----------- ---------------------------- 34.8/124.9 MB 4.1 MB/s eta 0:00:23\n",
      "   ----------- ---------------------------- 35.0/124.9 MB 4.1 MB/s eta 0:00:22\n",
      "   ----------- ---------------------------- 35.2/124.9 MB 4.1 MB/s eta 0:00:22\n",
      "   ----------- ---------------------------- 35.5/124.9 MB 4.1 MB/s eta 0:00:22\n",
      "   ----------- ---------------------------- 35.7/124.9 MB 4.1 MB/s eta 0:00:22\n",
      "   ----------- ---------------------------- 36.0/124.9 MB 4.4 MB/s eta 0:00:21\n",
      "   ----------- ---------------------------- 36.3/124.9 MB 4.5 MB/s eta 0:00:20\n",
      "   ----------- ---------------------------- 36.4/124.9 MB 4.5 MB/s eta 0:00:20\n",
      "   ----------- ---------------------------- 36.6/124.9 MB 4.5 MB/s eta 0:00:20\n",
      "   ----------- ---------------------------- 36.8/124.9 MB 4.6 MB/s eta 0:00:20\n",
      "   ----------- ---------------------------- 37.0/124.9 MB 4.6 MB/s eta 0:00:20\n",
      "   ----------- ---------------------------- 37.4/124.9 MB 4.6 MB/s eta 0:00:19\n",
      "   ------------ --------------------------- 37.7/124.9 MB 4.8 MB/s eta 0:00:19\n",
      "   ------------ --------------------------- 37.9/124.9 MB 4.7 MB/s eta 0:00:19\n",
      "   ------------ --------------------------- 38.1/124.9 MB 4.7 MB/s eta 0:00:19\n",
      "   ------------ --------------------------- 38.2/124.9 MB 4.7 MB/s eta 0:00:19\n",
      "   ------------ --------------------------- 38.5/124.9 MB 4.7 MB/s eta 0:00:19\n",
      "   ------------ --------------------------- 38.6/124.9 MB 4.7 MB/s eta 0:00:19\n",
      "   ------------ --------------------------- 38.9/124.9 MB 4.7 MB/s eta 0:00:19\n",
      "   ------------ --------------------------- 39.2/124.9 MB 4.7 MB/s eta 0:00:19\n",
      "   ------------ --------------------------- 39.4/124.9 MB 4.7 MB/s eta 0:00:19\n",
      "   ------------ --------------------------- 39.6/124.9 MB 4.7 MB/s eta 0:00:18\n",
      "   ------------ --------------------------- 39.7/124.9 MB 4.6 MB/s eta 0:00:19\n",
      "   ------------ --------------------------- 39.9/124.9 MB 4.6 MB/s eta 0:00:19\n",
      "   ------------ --------------------------- 39.9/124.9 MB 4.6 MB/s eta 0:00:19\n",
      "   ------------ --------------------------- 40.2/124.9 MB 4.6 MB/s eta 0:00:19\n",
      "   ------------ --------------------------- 40.4/124.9 MB 4.7 MB/s eta 0:00:19\n",
      "   ------------ --------------------------- 40.6/124.9 MB 4.6 MB/s eta 0:00:19\n",
      "   ------------- -------------------------- 40.9/124.9 MB 4.6 MB/s eta 0:00:19\n",
      "   ------------- -------------------------- 41.1/124.9 MB 4.6 MB/s eta 0:00:19\n",
      "   ------------- -------------------------- 41.4/124.9 MB 4.6 MB/s eta 0:00:19\n",
      "   ------------- -------------------------- 41.5/124.9 MB 4.6 MB/s eta 0:00:19\n",
      "   ------------- -------------------------- 41.7/124.9 MB 4.6 MB/s eta 0:00:19\n",
      "   ------------- -------------------------- 42.0/124.9 MB 4.7 MB/s eta 0:00:18\n",
      "   ------------- -------------------------- 42.1/124.9 MB 4.6 MB/s eta 0:00:18\n",
      "   ------------- -------------------------- 42.4/124.9 MB 4.7 MB/s eta 0:00:18\n",
      "   ------------- -------------------------- 42.6/124.9 MB 4.8 MB/s eta 0:00:18\n",
      "   ------------- -------------------------- 42.9/124.9 MB 4.8 MB/s eta 0:00:18\n",
      "   ------------- -------------------------- 43.2/124.9 MB 4.9 MB/s eta 0:00:17\n",
      "   ------------- -------------------------- 43.3/124.9 MB 4.9 MB/s eta 0:00:17\n",
      "   ------------- -------------------------- 43.5/124.9 MB 4.8 MB/s eta 0:00:17\n",
      "   ------------- -------------------------- 43.7/124.9 MB 4.9 MB/s eta 0:00:17\n",
      "   -------------- ------------------------- 44.0/124.9 MB 4.8 MB/s eta 0:00:17\n",
      "   -------------- ------------------------- 44.2/124.9 MB 4.8 MB/s eta 0:00:17\n",
      "   -------------- ------------------------- 44.4/124.9 MB 4.7 MB/s eta 0:00:17\n",
      "   -------------- ------------------------- 44.7/124.9 MB 4.7 MB/s eta 0:00:17\n",
      "   -------------- ------------------------- 44.9/124.9 MB 4.8 MB/s eta 0:00:17\n",
      "   -------------- ------------------------- 45.0/124.9 MB 4.9 MB/s eta 0:00:17\n",
      "   -------------- ------------------------- 45.2/124.9 MB 4.7 MB/s eta 0:00:17\n",
      "   -------------- ------------------------- 45.5/124.9 MB 4.8 MB/s eta 0:00:17\n",
      "   -------------- ------------------------- 45.8/124.9 MB 4.8 MB/s eta 0:00:17\n",
      "   -------------- ------------------------- 46.0/124.9 MB 4.7 MB/s eta 0:00:17\n",
      "   -------------- ------------------------- 46.3/124.9 MB 4.7 MB/s eta 0:00:17\n",
      "   -------------- ------------------------- 46.4/124.9 MB 4.7 MB/s eta 0:00:17\n",
      "   -------------- ------------------------- 46.5/124.9 MB 4.6 MB/s eta 0:00:17\n",
      "   -------------- ------------------------- 46.7/124.9 MB 4.7 MB/s eta 0:00:17\n",
      "   --------------- ------------------------ 46.9/124.9 MB 4.7 MB/s eta 0:00:17\n",
      "   --------------- ------------------------ 47.1/124.9 MB 4.7 MB/s eta 0:00:17\n",
      "   --------------- ------------------------ 47.3/124.9 MB 4.6 MB/s eta 0:00:17\n",
      "   --------------- ------------------------ 47.6/124.9 MB 4.6 MB/s eta 0:00:17\n",
      "   --------------- ------------------------ 47.9/124.9 MB 4.6 MB/s eta 0:00:17\n",
      "   --------------- ------------------------ 48.1/124.9 MB 4.6 MB/s eta 0:00:17\n",
      "   --------------- ------------------------ 48.4/124.9 MB 4.6 MB/s eta 0:00:17\n",
      "   --------------- ------------------------ 48.5/124.9 MB 4.6 MB/s eta 0:00:17\n",
      "   --------------- ------------------------ 48.7/124.9 MB 4.6 MB/s eta 0:00:17\n",
      "   --------------- ------------------------ 48.9/124.9 MB 4.6 MB/s eta 0:00:17\n",
      "   --------------- ------------------------ 49.1/124.9 MB 4.6 MB/s eta 0:00:17\n",
      "   --------------- ------------------------ 49.4/124.9 MB 4.6 MB/s eta 0:00:17\n",
      "   --------------- ------------------------ 49.6/124.9 MB 4.6 MB/s eta 0:00:17\n",
      "   --------------- ------------------------ 49.8/124.9 MB 4.6 MB/s eta 0:00:17\n",
      "   ---------------- ----------------------- 50.0/124.9 MB 4.7 MB/s eta 0:00:17\n",
      "   ---------------- ----------------------- 50.1/124.9 MB 4.8 MB/s eta 0:00:16\n",
      "   ---------------- ----------------------- 50.4/124.9 MB 4.7 MB/s eta 0:00:16\n",
      "   ---------------- ----------------------- 50.6/124.9 MB 4.7 MB/s eta 0:00:16\n",
      "   ---------------- ----------------------- 50.8/124.9 MB 4.7 MB/s eta 0:00:16\n",
      "   ---------------- ----------------------- 51.1/124.9 MB 4.7 MB/s eta 0:00:16\n",
      "   ---------------- ----------------------- 51.4/124.9 MB 4.7 MB/s eta 0:00:16\n",
      "   ---------------- ----------------------- 51.6/124.9 MB 4.7 MB/s eta 0:00:16\n",
      "   ---------------- ----------------------- 51.9/124.9 MB 4.8 MB/s eta 0:00:16\n",
      "   ---------------- ----------------------- 52.0/124.9 MB 4.8 MB/s eta 0:00:16\n",
      "   ---------------- ----------------------- 52.1/124.9 MB 4.7 MB/s eta 0:00:16\n",
      "   ---------------- ----------------------- 52.5/124.9 MB 4.7 MB/s eta 0:00:16\n",
      "   ---------------- ----------------------- 52.7/124.9 MB 4.8 MB/s eta 0:00:16\n",
      "   ---------------- ----------------------- 53.0/124.9 MB 4.7 MB/s eta 0:00:16\n",
      "   ----------------- ---------------------- 53.3/124.9 MB 4.8 MB/s eta 0:00:15\n",
      "   ----------------- ---------------------- 53.4/124.9 MB 4.7 MB/s eta 0:00:16\n",
      "   ----------------- ---------------------- 53.4/124.9 MB 4.6 MB/s eta 0:00:16\n",
      "   ----------------- ---------------------- 53.6/124.9 MB 4.7 MB/s eta 0:00:16\n",
      "   ----------------- ---------------------- 53.9/124.9 MB 4.7 MB/s eta 0:00:16\n",
      "   ----------------- ---------------------- 54.2/124.9 MB 4.6 MB/s eta 0:00:16\n",
      "   ----------------- ---------------------- 54.5/124.9 MB 4.7 MB/s eta 0:00:16\n",
      "   ----------------- ---------------------- 54.8/124.9 MB 4.7 MB/s eta 0:00:15\n",
      "   ----------------- ---------------------- 54.9/124.9 MB 4.6 MB/s eta 0:00:16\n",
      "   ----------------- ---------------------- 55.0/124.9 MB 4.6 MB/s eta 0:00:16\n",
      "   ----------------- ---------------------- 55.2/124.9 MB 4.6 MB/s eta 0:00:16\n",
      "   ----------------- ---------------------- 55.2/124.9 MB 4.6 MB/s eta 0:00:16\n",
      "   ----------------- ---------------------- 55.6/124.9 MB 4.6 MB/s eta 0:00:16\n",
      "   ----------------- ---------------------- 55.7/124.9 MB 4.5 MB/s eta 0:00:16\n",
      "   ----------------- ---------------------- 55.8/124.9 MB 4.5 MB/s eta 0:00:16\n",
      "   ----------------- ---------------------- 56.1/124.9 MB 4.5 MB/s eta 0:00:16\n",
      "   ------------------ --------------------- 56.3/124.9 MB 4.5 MB/s eta 0:00:16\n",
      "   ------------------ --------------------- 56.5/124.9 MB 4.5 MB/s eta 0:00:16\n",
      "   ------------------ --------------------- 56.6/124.9 MB 4.5 MB/s eta 0:00:16\n",
      "   ------------------ --------------------- 56.9/124.9 MB 4.5 MB/s eta 0:00:16\n",
      "   ------------------ --------------------- 57.2/124.9 MB 4.6 MB/s eta 0:00:15\n",
      "   ------------------ --------------------- 57.4/124.9 MB 4.6 MB/s eta 0:00:15\n",
      "   ------------------ --------------------- 57.7/124.9 MB 4.6 MB/s eta 0:00:15\n",
      "   ------------------ --------------------- 58.0/124.9 MB 4.6 MB/s eta 0:00:15\n",
      "   ------------------ --------------------- 58.2/124.9 MB 4.6 MB/s eta 0:00:15\n",
      "   ------------------ --------------------- 58.5/124.9 MB 4.6 MB/s eta 0:00:15\n",
      "   ------------------ --------------------- 58.6/124.9 MB 4.6 MB/s eta 0:00:15\n",
      "   ------------------ --------------------- 58.8/124.9 MB 4.6 MB/s eta 0:00:15\n",
      "   ------------------ --------------------- 59.1/124.9 MB 4.6 MB/s eta 0:00:15\n",
      "   ------------------ --------------------- 59.2/124.9 MB 4.5 MB/s eta 0:00:15\n",
      "   ------------------- -------------------- 59.5/124.9 MB 4.6 MB/s eta 0:00:15\n",
      "   ------------------- -------------------- 59.6/124.9 MB 4.5 MB/s eta 0:00:15\n",
      "   ------------------- -------------------- 59.9/124.9 MB 4.5 MB/s eta 0:00:15\n",
      "   ------------------- -------------------- 60.1/124.9 MB 4.6 MB/s eta 0:00:15\n",
      "   ------------------- -------------------- 60.2/124.9 MB 4.5 MB/s eta 0:00:15\n",
      "   ------------------- -------------------- 60.6/124.9 MB 4.6 MB/s eta 0:00:15\n",
      "   ------------------- -------------------- 60.7/124.9 MB 4.5 MB/s eta 0:00:15\n",
      "   ------------------- -------------------- 61.0/124.9 MB 4.6 MB/s eta 0:00:14\n",
      "   ------------------- -------------------- 61.3/124.9 MB 4.6 MB/s eta 0:00:14\n",
      "   ------------------- -------------------- 61.4/124.9 MB 4.6 MB/s eta 0:00:14\n",
      "   ------------------- -------------------- 61.5/124.9 MB 4.4 MB/s eta 0:00:15\n",
      "   ------------------- -------------------- 61.6/124.9 MB 4.4 MB/s eta 0:00:15\n",
      "   ------------------- -------------------- 61.6/124.9 MB 4.4 MB/s eta 0:00:15\n",
      "   ------------------- -------------------- 61.6/124.9 MB 4.2 MB/s eta 0:00:15\n",
      "   ------------------- -------------------- 62.1/124.9 MB 4.3 MB/s eta 0:00:15\n",
      "   ------------------- -------------------- 62.4/124.9 MB 4.4 MB/s eta 0:00:15\n",
      "   -------------------- ------------------- 62.6/124.9 MB 4.4 MB/s eta 0:00:15\n",
      "   -------------------- ------------------- 62.8/124.9 MB 4.3 MB/s eta 0:00:15\n",
      "   -------------------- ------------------- 63.1/124.9 MB 4.3 MB/s eta 0:00:15\n",
      "   -------------------- ------------------- 63.1/124.9 MB 4.3 MB/s eta 0:00:15\n",
      "   -------------------- ------------------- 63.3/124.9 MB 4.2 MB/s eta 0:00:15\n",
      "   -------------------- ------------------- 63.5/124.9 MB 4.2 MB/s eta 0:00:15\n",
      "   -------------------- ------------------- 63.6/124.9 MB 4.2 MB/s eta 0:00:15\n",
      "   -------------------- ------------------- 63.9/124.9 MB 4.3 MB/s eta 0:00:15\n",
      "   -------------------- ------------------- 64.1/124.9 MB 4.3 MB/s eta 0:00:15\n",
      "   -------------------- ------------------- 64.4/124.9 MB 4.3 MB/s eta 0:00:15\n",
      "   -------------------- ------------------- 64.6/124.9 MB 4.3 MB/s eta 0:00:15\n",
      "   -------------------- ------------------- 64.6/124.9 MB 4.3 MB/s eta 0:00:15\n",
      "   -------------------- ------------------- 64.9/124.9 MB 4.2 MB/s eta 0:00:15\n",
      "   -------------------- ------------------- 65.0/124.9 MB 4.2 MB/s eta 0:00:15\n",
      "   -------------------- ------------------- 65.2/124.9 MB 4.2 MB/s eta 0:00:15\n",
      "   -------------------- ------------------- 65.3/124.9 MB 4.2 MB/s eta 0:00:15\n",
      "   --------------------- ------------------ 65.6/124.9 MB 4.3 MB/s eta 0:00:14\n",
      "   --------------------- ------------------ 65.7/124.9 MB 4.2 MB/s eta 0:00:15\n",
      "   --------------------- ------------------ 66.0/124.9 MB 4.2 MB/s eta 0:00:14\n",
      "   --------------------- ------------------ 66.0/124.9 MB 4.2 MB/s eta 0:00:15\n",
      "   --------------------- ------------------ 66.3/124.9 MB 4.3 MB/s eta 0:00:14\n",
      "   --------------------- ------------------ 66.5/124.9 MB 4.2 MB/s eta 0:00:14\n",
      "   --------------------- ------------------ 66.6/124.9 MB 4.2 MB/s eta 0:00:14\n",
      "   --------------------- ------------------ 66.9/124.9 MB 4.3 MB/s eta 0:00:14\n",
      "   --------------------- ------------------ 67.1/124.9 MB 4.3 MB/s eta 0:00:14\n",
      "   --------------------- ------------------ 67.3/124.9 MB 4.2 MB/s eta 0:00:14\n",
      "   --------------------- ------------------ 67.5/124.9 MB 4.2 MB/s eta 0:00:14\n",
      "   --------------------- ------------------ 67.5/124.9 MB 4.2 MB/s eta 0:00:14\n",
      "   --------------------- ------------------ 67.8/124.9 MB 4.1 MB/s eta 0:00:14\n",
      "   --------------------- ------------------ 67.8/124.9 MB 4.1 MB/s eta 0:00:14\n",
      "   --------------------- ------------------ 67.8/124.9 MB 4.1 MB/s eta 0:00:14\n",
      "   --------------------- ------------------ 68.1/124.9 MB 4.0 MB/s eta 0:00:15\n",
      "   --------------------- ------------------ 68.3/124.9 MB 4.0 MB/s eta 0:00:15\n",
      "   --------------------- ------------------ 68.5/124.9 MB 4.0 MB/s eta 0:00:15\n",
      "   --------------------- ------------------ 68.7/124.9 MB 3.9 MB/s eta 0:00:15\n",
      "   ---------------------- ----------------- 68.8/124.9 MB 3.9 MB/s eta 0:00:15\n",
      "   ---------------------- ----------------- 69.1/124.9 MB 4.0 MB/s eta 0:00:14\n",
      "   ---------------------- ----------------- 69.2/124.9 MB 3.9 MB/s eta 0:00:15\n",
      "   ---------------------- ----------------- 69.4/124.9 MB 4.0 MB/s eta 0:00:14\n",
      "   ---------------------- ----------------- 69.7/124.9 MB 3.9 MB/s eta 0:00:15\n",
      "   ---------------------- ----------------- 70.0/124.9 MB 4.0 MB/s eta 0:00:14\n",
      "   ---------------------- ----------------- 70.1/124.9 MB 4.0 MB/s eta 0:00:14\n",
      "   ---------------------- ----------------- 70.3/124.9 MB 3.9 MB/s eta 0:00:14\n",
      "   ---------------------- ----------------- 70.4/124.9 MB 4.0 MB/s eta 0:00:14\n",
      "   ---------------------- ----------------- 70.7/124.9 MB 4.0 MB/s eta 0:00:14\n",
      "   ---------------------- ----------------- 70.8/124.9 MB 3.9 MB/s eta 0:00:14\n",
      "   ---------------------- ----------------- 71.0/124.9 MB 3.9 MB/s eta 0:00:14\n",
      "   ---------------------- ----------------- 71.3/124.9 MB 3.9 MB/s eta 0:00:14\n",
      "   ---------------------- ----------------- 71.6/124.9 MB 3.9 MB/s eta 0:00:14\n",
      "   ----------------------- ---------------- 71.9/124.9 MB 4.2 MB/s eta 0:00:13\n",
      "   ----------------------- ---------------- 72.0/124.9 MB 4.2 MB/s eta 0:00:13\n",
      "   ----------------------- ---------------- 72.2/124.9 MB 4.1 MB/s eta 0:00:13\n",
      "   ----------------------- ---------------- 72.5/124.9 MB 4.1 MB/s eta 0:00:13\n",
      "   ----------------------- ---------------- 72.6/124.9 MB 4.1 MB/s eta 0:00:13\n",
      "   ----------------------- ---------------- 72.6/124.9 MB 4.1 MB/s eta 0:00:13\n",
      "   ----------------------- ---------------- 72.7/124.9 MB 4.0 MB/s eta 0:00:14\n",
      "   ----------------------- ---------------- 73.0/124.9 MB 4.0 MB/s eta 0:00:13\n",
      "   ----------------------- ---------------- 73.2/124.9 MB 4.0 MB/s eta 0:00:14\n",
      "   ----------------------- ---------------- 73.3/124.9 MB 3.9 MB/s eta 0:00:14\n",
      "   ----------------------- ---------------- 73.5/124.9 MB 4.0 MB/s eta 0:00:13\n",
      "   ----------------------- ---------------- 73.8/124.9 MB 4.0 MB/s eta 0:00:13\n",
      "   ----------------------- ---------------- 74.1/124.9 MB 4.0 MB/s eta 0:00:13\n",
      "   ----------------------- ---------------- 74.3/124.9 MB 4.0 MB/s eta 0:00:13\n",
      "   ----------------------- ---------------- 74.7/124.9 MB 4.1 MB/s eta 0:00:13\n",
      "   ----------------------- ---------------- 74.9/124.9 MB 4.1 MB/s eta 0:00:13\n",
      "   ------------------------ --------------- 75.2/124.9 MB 4.2 MB/s eta 0:00:12\n",
      "   ------------------------ --------------- 75.2/124.9 MB 4.1 MB/s eta 0:00:13\n",
      "   ------------------------ --------------- 75.5/124.9 MB 4.2 MB/s eta 0:00:12\n",
      "   ------------------------ --------------- 75.7/124.9 MB 4.2 MB/s eta 0:00:12\n",
      "   ------------------------ --------------- 76.0/124.9 MB 4.2 MB/s eta 0:00:12\n",
      "   ------------------------ --------------- 76.3/124.9 MB 4.3 MB/s eta 0:00:12\n",
      "   ------------------------ --------------- 76.6/124.9 MB 4.3 MB/s eta 0:00:12\n",
      "   ------------------------ --------------- 76.8/124.9 MB 4.3 MB/s eta 0:00:12\n",
      "   ------------------------ --------------- 77.0/124.9 MB 4.4 MB/s eta 0:00:11\n",
      "   ------------------------ --------------- 77.1/124.9 MB 4.3 MB/s eta 0:00:12\n",
      "   ------------------------ --------------- 77.5/124.9 MB 4.3 MB/s eta 0:00:12\n",
      "   ------------------------ --------------- 77.6/124.9 MB 4.3 MB/s eta 0:00:12\n",
      "   ------------------------ --------------- 77.9/124.9 MB 4.4 MB/s eta 0:00:11\n",
      "   ------------------------ --------------- 78.0/124.9 MB 4.4 MB/s eta 0:00:11\n",
      "   ------------------------- -------------- 78.3/124.9 MB 4.5 MB/s eta 0:00:11\n",
      "   ------------------------- -------------- 78.5/124.9 MB 4.5 MB/s eta 0:00:11\n",
      "   ------------------------- -------------- 78.6/124.9 MB 4.5 MB/s eta 0:00:11\n",
      "   ------------------------- -------------- 78.8/124.9 MB 4.5 MB/s eta 0:00:11\n",
      "   ------------------------- -------------- 79.1/124.9 MB 4.5 MB/s eta 0:00:11\n",
      "   ------------------------- -------------- 79.3/124.9 MB 4.5 MB/s eta 0:00:11\n",
      "   ------------------------- -------------- 79.5/124.9 MB 4.5 MB/s eta 0:00:10\n",
      "   ------------------------- -------------- 79.8/124.9 MB 4.6 MB/s eta 0:00:10\n",
      "   ------------------------- -------------- 80.1/124.9 MB 4.6 MB/s eta 0:00:10\n",
      "   ------------------------- -------------- 80.4/124.9 MB 4.6 MB/s eta 0:00:10\n",
      "   ------------------------- -------------- 80.5/124.9 MB 4.6 MB/s eta 0:00:10\n",
      "   ------------------------- -------------- 80.7/124.9 MB 4.6 MB/s eta 0:00:10\n",
      "   ------------------------- -------------- 81.0/124.9 MB 4.7 MB/s eta 0:00:10\n",
      "   ------------------------- -------------- 81.2/124.9 MB 4.7 MB/s eta 0:00:10\n",
      "   ------------------------- -------------- 81.2/124.9 MB 4.7 MB/s eta 0:00:10\n",
      "   ------------------------- -------------- 81.2/124.9 MB 4.7 MB/s eta 0:00:10\n",
      "   ------------------------- -------------- 81.2/124.9 MB 4.7 MB/s eta 0:00:10\n",
      "   ------------------------- -------------- 81.2/124.9 MB 4.7 MB/s eta 0:00:10\n",
      "   -------------------------- ------------- 81.3/124.9 MB 4.3 MB/s eta 0:00:11\n",
      "   -------------------------- ------------- 81.4/124.9 MB 4.2 MB/s eta 0:00:11\n",
      "   -------------------------- ------------- 81.7/124.9 MB 4.2 MB/s eta 0:00:11\n",
      "   -------------------------- ------------- 81.7/124.9 MB 4.2 MB/s eta 0:00:11\n",
      "   -------------------------- ------------- 81.9/124.9 MB 4.1 MB/s eta 0:00:11\n",
      "   -------------------------- ------------- 82.2/124.9 MB 4.1 MB/s eta 0:00:11\n",
      "   -------------------------- ------------- 82.5/124.9 MB 4.2 MB/s eta 0:00:11\n",
      "   -------------------------- ------------- 82.8/124.9 MB 4.2 MB/s eta 0:00:11\n",
      "   -------------------------- ------------- 82.8/124.9 MB 4.2 MB/s eta 0:00:11\n",
      "   -------------------------- ------------- 83.1/124.9 MB 4.3 MB/s eta 0:00:10\n",
      "   -------------------------- ------------- 83.3/124.9 MB 4.3 MB/s eta 0:00:10\n",
      "   -------------------------- ------------- 83.3/124.9 MB 4.3 MB/s eta 0:00:10\n",
      "   -------------------------- ------------- 83.5/124.9 MB 4.3 MB/s eta 0:00:10\n",
      "   -------------------------- ------------- 83.9/124.9 MB 4.3 MB/s eta 0:00:10\n",
      "   -------------------------- ------------- 84.1/124.9 MB 4.3 MB/s eta 0:00:10\n",
      "   --------------------------- ------------ 84.3/124.9 MB 4.3 MB/s eta 0:00:10\n",
      "   --------------------------- ------------ 84.5/124.9 MB 4.2 MB/s eta 0:00:10\n",
      "   --------------------------- ------------ 84.8/124.9 MB 4.2 MB/s eta 0:00:10\n",
      "   --------------------------- ------------ 84.9/124.9 MB 4.2 MB/s eta 0:00:10\n",
      "   --------------------------- ------------ 85.2/124.9 MB 4.2 MB/s eta 0:00:10\n",
      "   --------------------------- ------------ 85.3/124.9 MB 4.1 MB/s eta 0:00:10\n",
      "   --------------------------- ------------ 85.7/124.9 MB 4.2 MB/s eta 0:00:10\n",
      "   --------------------------- ------------ 85.7/124.9 MB 4.3 MB/s eta 0:00:10\n",
      "   --------------------------- ------------ 85.7/124.9 MB 4.3 MB/s eta 0:00:10\n",
      "   --------------------------- ------------ 85.8/124.9 MB 4.0 MB/s eta 0:00:10\n",
      "   --------------------------- ------------ 86.0/124.9 MB 4.0 MB/s eta 0:00:10\n",
      "   --------------------------- ------------ 86.3/124.9 MB 4.0 MB/s eta 0:00:10\n",
      "   --------------------------- ------------ 86.6/124.9 MB 4.0 MB/s eta 0:00:10\n",
      "   --------------------------- ------------ 86.8/124.9 MB 4.0 MB/s eta 0:00:10\n",
      "   --------------------------- ------------ 87.0/124.9 MB 4.0 MB/s eta 0:00:10\n",
      "   --------------------------- ------------ 87.1/124.9 MB 4.0 MB/s eta 0:00:10\n",
      "   --------------------------- ------------ 87.1/124.9 MB 4.0 MB/s eta 0:00:10\n",
      "   --------------------------- ------------ 87.1/124.9 MB 4.0 MB/s eta 0:00:10\n",
      "   --------------------------- ------------ 87.1/124.9 MB 4.0 MB/s eta 0:00:10\n",
      "   --------------------------- ------------ 87.4/124.9 MB 3.8 MB/s eta 0:00:10\n",
      "   ---------------------------- ----------- 87.7/124.9 MB 3.8 MB/s eta 0:00:10\n",
      "   ---------------------------- ----------- 87.8/124.9 MB 3.8 MB/s eta 0:00:10\n",
      "   ---------------------------- ----------- 88.0/124.9 MB 3.8 MB/s eta 0:00:10\n",
      "   ---------------------------- ----------- 88.2/124.9 MB 3.8 MB/s eta 0:00:10\n",
      "   ---------------------------- ----------- 88.3/124.9 MB 3.7 MB/s eta 0:00:10\n",
      "   ---------------------------- ----------- 88.6/124.9 MB 3.7 MB/s eta 0:00:10\n",
      "   ---------------------------- ----------- 88.6/124.9 MB 3.7 MB/s eta 0:00:10\n",
      "   ---------------------------- ----------- 88.8/124.9 MB 3.7 MB/s eta 0:00:10\n",
      "   ---------------------------- ----------- 89.1/124.9 MB 3.7 MB/s eta 0:00:10\n",
      "   ---------------------------- ----------- 89.2/124.9 MB 3.7 MB/s eta 0:00:10\n",
      "   ---------------------------- ----------- 89.5/124.9 MB 3.7 MB/s eta 0:00:10\n",
      "   ---------------------------- ----------- 89.7/124.9 MB 3.7 MB/s eta 0:00:10\n",
      "   ---------------------------- ----------- 89.8/124.9 MB 3.7 MB/s eta 0:00:10\n",
      "   ---------------------------- ----------- 90.1/124.9 MB 3.7 MB/s eta 0:00:10\n",
      "   ---------------------------- ----------- 90.3/124.9 MB 3.7 MB/s eta 0:00:10\n",
      "   ----------------------------- ---------- 90.6/124.9 MB 3.7 MB/s eta 0:00:10\n",
      "   ----------------------------- ---------- 91.0/124.9 MB 3.7 MB/s eta 0:00:10\n",
      "   ----------------------------- ---------- 91.2/124.9 MB 3.7 MB/s eta 0:00:10\n",
      "   ----------------------------- ---------- 91.4/124.9 MB 3.7 MB/s eta 0:00:10\n",
      "   ----------------------------- ---------- 91.4/124.9 MB 3.7 MB/s eta 0:00:10\n",
      "   ----------------------------- ---------- 91.5/124.9 MB 3.9 MB/s eta 0:00:09\n",
      "   ----------------------------- ---------- 91.8/124.9 MB 4.0 MB/s eta 0:00:09\n",
      "   ----------------------------- ---------- 92.0/124.9 MB 4.0 MB/s eta 0:00:09\n",
      "   ----------------------------- ---------- 92.2/124.9 MB 4.0 MB/s eta 0:00:09\n",
      "   ----------------------------- ---------- 92.3/124.9 MB 4.0 MB/s eta 0:00:09\n",
      "   ----------------------------- ---------- 92.7/124.9 MB 4.0 MB/s eta 0:00:09\n",
      "   ----------------------------- ---------- 93.0/124.9 MB 4.1 MB/s eta 0:00:08\n",
      "   ----------------------------- ---------- 93.1/124.9 MB 4.1 MB/s eta 0:00:08\n",
      "   ----------------------------- ---------- 93.3/124.9 MB 4.0 MB/s eta 0:00:08\n",
      "   ----------------------------- ---------- 93.5/124.9 MB 4.1 MB/s eta 0:00:08\n",
      "   ----------------------------- ---------- 93.6/124.9 MB 4.1 MB/s eta 0:00:08\n",
      "   ------------------------------ --------- 93.7/124.9 MB 4.0 MB/s eta 0:00:08\n",
      "   ------------------------------ --------- 94.0/124.9 MB 4.0 MB/s eta 0:00:08\n",
      "   ------------------------------ --------- 94.2/124.9 MB 4.0 MB/s eta 0:00:08\n",
      "   ------------------------------ --------- 94.5/124.9 MB 4.0 MB/s eta 0:00:08\n",
      "   ------------------------------ --------- 94.6/124.9 MB 4.1 MB/s eta 0:00:08\n",
      "   ------------------------------ --------- 94.8/124.9 MB 4.0 MB/s eta 0:00:08\n",
      "   ------------------------------ --------- 95.1/124.9 MB 4.0 MB/s eta 0:00:08\n",
      "   ------------------------------ --------- 95.3/124.9 MB 4.0 MB/s eta 0:00:08\n",
      "   ------------------------------ --------- 95.6/124.9 MB 4.1 MB/s eta 0:00:08\n",
      "   ------------------------------ --------- 95.9/124.9 MB 4.0 MB/s eta 0:00:08\n",
      "   ------------------------------ --------- 96.2/124.9 MB 4.3 MB/s eta 0:00:07\n",
      "   ------------------------------ --------- 96.4/124.9 MB 4.3 MB/s eta 0:00:07\n",
      "   ------------------------------ --------- 96.5/124.9 MB 4.3 MB/s eta 0:00:07\n",
      "   ------------------------------ --------- 96.7/124.9 MB 4.2 MB/s eta 0:00:07\n",
      "   ------------------------------- -------- 97.0/124.9 MB 4.2 MB/s eta 0:00:07\n",
      "   ------------------------------- -------- 97.2/124.9 MB 4.2 MB/s eta 0:00:07\n",
      "   ------------------------------- -------- 97.4/124.9 MB 4.5 MB/s eta 0:00:07\n",
      "   ------------------------------- -------- 97.7/124.9 MB 4.5 MB/s eta 0:00:06\n",
      "   ------------------------------- -------- 97.9/124.9 MB 4.5 MB/s eta 0:00:06\n",
      "   ------------------------------- -------- 98.2/124.9 MB 4.6 MB/s eta 0:00:06\n",
      "   ------------------------------- -------- 98.5/124.9 MB 4.7 MB/s eta 0:00:06\n",
      "   ------------------------------- -------- 98.6/124.9 MB 4.6 MB/s eta 0:00:06\n",
      "   ------------------------------- -------- 98.9/124.9 MB 4.8 MB/s eta 0:00:06\n",
      "   ------------------------------- -------- 99.2/124.9 MB 4.8 MB/s eta 0:00:06\n",
      "   ------------------------------- -------- 99.5/124.9 MB 4.9 MB/s eta 0:00:06\n",
      "   ------------------------------- -------- 99.7/124.9 MB 4.9 MB/s eta 0:00:06\n",
      "   -------------------------------- ------- 100.1/124.9 MB 5.0 MB/s eta 0:00:05\n",
      "   -------------------------------- ------- 100.4/124.9 MB 5.0 MB/s eta 0:00:05\n",
      "   -------------------------------- ------- 100.4/124.9 MB 4.9 MB/s eta 0:00:05\n",
      "   -------------------------------- ------- 100.6/124.9 MB 4.8 MB/s eta 0:00:06\n",
      "   -------------------------------- ------- 100.9/124.9 MB 4.8 MB/s eta 0:00:05\n",
      "   -------------------------------- ------- 101.1/124.9 MB 4.8 MB/s eta 0:00:05\n",
      "   -------------------------------- ------- 101.4/124.9 MB 4.8 MB/s eta 0:00:05\n",
      "   -------------------------------- ------- 101.7/124.9 MB 5.0 MB/s eta 0:00:05\n",
      "   -------------------------------- ------- 101.9/124.9 MB 5.0 MB/s eta 0:00:05\n",
      "   -------------------------------- ------- 102.3/124.9 MB 5.0 MB/s eta 0:00:05\n",
      "   -------------------------------- ------- 102.3/124.9 MB 5.0 MB/s eta 0:00:05\n",
      "   -------------------------------- ------- 102.7/124.9 MB 5.0 MB/s eta 0:00:05\n",
      "   -------------------------------- ------- 102.9/124.9 MB 5.0 MB/s eta 0:00:05\n",
      "   --------------------------------- ------ 103.1/124.9 MB 5.0 MB/s eta 0:00:05\n",
      "   --------------------------------- ------ 103.5/124.9 MB 5.1 MB/s eta 0:00:05\n",
      "   --------------------------------- ------ 103.8/124.9 MB 5.2 MB/s eta 0:00:05\n",
      "   --------------------------------- ------ 103.9/124.9 MB 5.2 MB/s eta 0:00:05\n",
      "   --------------------------------- ------ 103.9/124.9 MB 5.2 MB/s eta 0:00:05\n",
      "   --------------------------------- ------ 103.9/124.9 MB 5.0 MB/s eta 0:00:05\n",
      "   --------------------------------- ------ 104.2/124.9 MB 5.0 MB/s eta 0:00:05\n",
      "   --------------------------------- ------ 104.4/124.9 MB 5.0 MB/s eta 0:00:05\n",
      "   --------------------------------- ------ 104.6/124.9 MB 4.9 MB/s eta 0:00:05\n",
      "   --------------------------------- ------ 104.9/124.9 MB 5.0 MB/s eta 0:00:04\n",
      "   --------------------------------- ------ 105.2/124.9 MB 5.0 MB/s eta 0:00:04\n",
      "   --------------------------------- ------ 105.5/124.9 MB 5.1 MB/s eta 0:00:04\n",
      "   --------------------------------- ------ 105.5/124.9 MB 5.0 MB/s eta 0:00:04\n",
      "   --------------------------------- ------ 105.8/124.9 MB 4.9 MB/s eta 0:00:04\n",
      "   --------------------------------- ------ 106.1/124.9 MB 5.0 MB/s eta 0:00:04\n",
      "   ---------------------------------- ----- 106.4/124.9 MB 4.9 MB/s eta 0:00:04\n",
      "   ---------------------------------- ----- 106.6/124.9 MB 4.9 MB/s eta 0:00:04\n",
      "   ---------------------------------- ----- 106.8/124.9 MB 5.1 MB/s eta 0:00:04\n",
      "   ---------------------------------- ----- 106.9/124.9 MB 4.9 MB/s eta 0:00:04\n",
      "   ---------------------------------- ----- 107.2/124.9 MB 4.9 MB/s eta 0:00:04\n",
      "   ---------------------------------- ----- 107.2/124.9 MB 4.9 MB/s eta 0:00:04\n",
      "   ---------------------------------- ----- 107.6/124.9 MB 4.9 MB/s eta 0:00:04\n",
      "   ---------------------------------- ----- 107.8/124.9 MB 4.8 MB/s eta 0:00:04\n",
      "   ---------------------------------- ----- 108.0/124.9 MB 4.8 MB/s eta 0:00:04\n",
      "   ---------------------------------- ----- 108.3/124.9 MB 4.8 MB/s eta 0:00:04\n",
      "   ---------------------------------- ----- 108.6/124.9 MB 4.9 MB/s eta 0:00:04\n",
      "   ---------------------------------- ----- 108.9/124.9 MB 4.9 MB/s eta 0:00:04\n",
      "   ---------------------------------- ----- 109.2/124.9 MB 4.9 MB/s eta 0:00:04\n",
      "   ----------------------------------- ---- 109.3/124.9 MB 4.8 MB/s eta 0:00:04\n",
      "   ----------------------------------- ---- 109.6/124.9 MB 4.8 MB/s eta 0:00:04\n",
      "   ----------------------------------- ---- 109.9/124.9 MB 4.8 MB/s eta 0:00:04\n",
      "   ----------------------------------- ---- 110.2/124.9 MB 4.8 MB/s eta 0:00:04\n",
      "   ----------------------------------- ---- 110.4/124.9 MB 4.8 MB/s eta 0:00:04\n",
      "   ----------------------------------- ---- 110.8/124.9 MB 4.9 MB/s eta 0:00:03\n",
      "   ----------------------------------- ---- 111.0/124.9 MB 5.0 MB/s eta 0:00:03\n",
      "   ----------------------------------- ---- 111.0/124.9 MB 5.0 MB/s eta 0:00:03\n",
      "   ----------------------------------- ---- 111.0/124.9 MB 4.7 MB/s eta 0:00:03\n",
      "   ----------------------------------- ---- 111.0/124.9 MB 4.7 MB/s eta 0:00:03\n",
      "   ----------------------------------- ---- 111.0/124.9 MB 4.7 MB/s eta 0:00:03\n",
      "   ----------------------------------- ---- 111.1/124.9 MB 4.5 MB/s eta 0:00:04\n",
      "   ----------------------------------- ---- 111.3/124.9 MB 4.5 MB/s eta 0:00:04\n",
      "   ----------------------------------- ---- 111.6/124.9 MB 4.5 MB/s eta 0:00:03\n",
      "   ----------------------------------- ---- 111.7/124.9 MB 4.4 MB/s eta 0:00:03\n",
      "   ----------------------------------- ---- 111.7/124.9 MB 4.4 MB/s eta 0:00:03\n",
      "   ----------------------------------- ---- 111.9/124.9 MB 4.3 MB/s eta 0:00:04\n",
      "   ----------------------------------- ---- 112.3/124.9 MB 4.3 MB/s eta 0:00:03\n",
      "   ------------------------------------ --- 112.6/124.9 MB 4.3 MB/s eta 0:00:03\n",
      "   ------------------------------------ --- 112.7/124.9 MB 4.4 MB/s eta 0:00:03\n",
      "   ------------------------------------ --- 112.7/124.9 MB 4.4 MB/s eta 0:00:03\n",
      "   ------------------------------------ --- 113.5/124.9 MB 4.4 MB/s eta 0:00:03\n",
      "   ------------------------------------ --- 113.7/124.9 MB 4.4 MB/s eta 0:00:03\n",
      "   ------------------------------------ --- 113.7/124.9 MB 4.4 MB/s eta 0:00:03\n",
      "   ------------------------------------ --- 113.7/124.9 MB 4.4 MB/s eta 0:00:03\n",
      "   ------------------------------------ --- 113.7/124.9 MB 4.4 MB/s eta 0:00:03\n",
      "   ------------------------------------ --- 113.9/124.9 MB 4.1 MB/s eta 0:00:03\n",
      "   ------------------------------------ --- 114.3/124.9 MB 4.4 MB/s eta 0:00:03\n",
      "   ------------------------------------ --- 114.5/124.9 MB 4.3 MB/s eta 0:00:03\n",
      "   ------------------------------------ --- 114.7/124.9 MB 4.3 MB/s eta 0:00:03\n",
      "   ------------------------------------ --- 114.8/124.9 MB 4.3 MB/s eta 0:00:03\n",
      "   ------------------------------------ --- 114.9/124.9 MB 4.2 MB/s eta 0:00:03\n",
      "   ------------------------------------ --- 115.2/124.9 MB 4.2 MB/s eta 0:00:03\n",
      "   ------------------------------------ --- 115.3/124.9 MB 4.2 MB/s eta 0:00:03\n",
      "   ------------------------------------ --- 115.5/124.9 MB 4.1 MB/s eta 0:00:03\n",
      "   ------------------------------------- -- 115.7/124.9 MB 4.1 MB/s eta 0:00:03\n",
      "   ------------------------------------- -- 115.9/124.9 MB 4.2 MB/s eta 0:00:03\n",
      "   ------------------------------------- -- 116.2/124.9 MB 4.2 MB/s eta 0:00:03\n",
      "   ------------------------------------- -- 116.3/124.9 MB 4.1 MB/s eta 0:00:03\n",
      "   ------------------------------------- -- 116.5/124.9 MB 4.1 MB/s eta 0:00:03\n",
      "   ------------------------------------- -- 116.8/124.9 MB 4.1 MB/s eta 0:00:02\n",
      "   ------------------------------------- -- 117.0/124.9 MB 4.1 MB/s eta 0:00:02\n",
      "   ------------------------------------- -- 117.3/124.9 MB 4.2 MB/s eta 0:00:02\n",
      "   ------------------------------------- -- 117.6/124.9 MB 4.3 MB/s eta 0:00:02\n",
      "   ------------------------------------- -- 117.9/124.9 MB 4.2 MB/s eta 0:00:02\n",
      "   ------------------------------------- -- 117.9/124.9 MB 4.3 MB/s eta 0:00:02\n",
      "   ------------------------------------- -- 118.0/124.9 MB 4.2 MB/s eta 0:00:02\n",
      "   ------------------------------------- -- 118.2/124.9 MB 4.1 MB/s eta 0:00:02\n",
      "   ------------------------------------- -- 118.5/124.9 MB 4.2 MB/s eta 0:00:02\n",
      "   -------------------------------------- - 118.7/124.9 MB 4.1 MB/s eta 0:00:02\n",
      "   -------------------------------------- - 118.9/124.9 MB 4.1 MB/s eta 0:00:02\n",
      "   -------------------------------------- - 119.2/124.9 MB 4.1 MB/s eta 0:00:02\n",
      "   -------------------------------------- - 119.3/124.9 MB 4.1 MB/s eta 0:00:02\n",
      "   -------------------------------------- - 119.6/124.9 MB 4.1 MB/s eta 0:00:02\n",
      "   -------------------------------------- - 119.7/124.9 MB 4.1 MB/s eta 0:00:02\n",
      "   -------------------------------------- - 119.9/124.9 MB 4.1 MB/s eta 0:00:02\n",
      "   -------------------------------------- - 120.2/124.9 MB 4.1 MB/s eta 0:00:02\n",
      "   -------------------------------------- - 120.3/124.9 MB 4.0 MB/s eta 0:00:02\n",
      "   -------------------------------------- - 120.6/124.9 MB 4.0 MB/s eta 0:00:02\n",
      "   -------------------------------------- - 120.9/124.9 MB 4.0 MB/s eta 0:00:02\n",
      "   -------------------------------------- - 121.1/124.9 MB 4.0 MB/s eta 0:00:01\n",
      "   -------------------------------------- - 121.4/124.9 MB 4.4 MB/s eta 0:00:01\n",
      "   -------------------------------------- - 121.5/124.9 MB 4.4 MB/s eta 0:00:01\n",
      "   -------------------------------------- - 121.7/124.9 MB 4.3 MB/s eta 0:00:01\n",
      "   -------------------------------------- - 121.7/124.9 MB 4.3 MB/s eta 0:00:01\n",
      "   ---------------------------------------  122.0/124.9 MB 4.3 MB/s eta 0:00:01\n",
      "   ---------------------------------------  122.1/124.9 MB 4.4 MB/s eta 0:00:01\n",
      "   ---------------------------------------  122.3/124.9 MB 4.3 MB/s eta 0:00:01\n",
      "   ---------------------------------------  122.6/124.9 MB 4.3 MB/s eta 0:00:01\n",
      "   ---------------------------------------  122.8/124.9 MB 4.3 MB/s eta 0:00:01\n",
      "   ---------------------------------------  122.8/124.9 MB 4.3 MB/s eta 0:00:01\n",
      "   ---------------------------------------  123.0/124.9 MB 4.3 MB/s eta 0:00:01\n",
      "   ---------------------------------------  123.3/124.9 MB 4.3 MB/s eta 0:00:01\n",
      "   ---------------------------------------  123.6/124.9 MB 4.1 MB/s eta 0:00:01\n",
      "   ---------------------------------------  123.8/124.9 MB 4.2 MB/s eta 0:00:01\n",
      "   ---------------------------------------  124.0/124.9 MB 4.5 MB/s eta 0:00:01\n",
      "   ---------------------------------------  124.3/124.9 MB 4.4 MB/s eta 0:00:01\n",
      "   ---------------------------------------  124.5/124.9 MB 4.3 MB/s eta 0:00:01\n",
      "   ---------------------------------------  124.5/124.9 MB 4.3 MB/s eta 0:00:01\n",
      "   ---------------------------------------  124.8/124.9 MB 4.3 MB/s eta 0:00:01\n",
      "   ---------------------------------------  124.9/124.9 MB 4.3 MB/s eta 0:00:01\n",
      "   ---------------------------------------  124.9/124.9 MB 4.3 MB/s eta 0:00:01\n",
      "   ---------------------------------------  124.9/124.9 MB 4.3 MB/s eta 0:00:01\n",
      "   ---------------------------------------  124.9/124.9 MB 4.3 MB/s eta 0:00:01\n",
      "   ---------------------------------------  124.9/124.9 MB 4.3 MB/s eta 0:00:01\n",
      "   ---------------------------------------  124.9/124.9 MB 4.3 MB/s eta 0:00:01\n",
      "   ---------------------------------------  124.9/124.9 MB 4.3 MB/s eta 0:00:01\n",
      "   ---------------------------------------  124.9/124.9 MB 4.3 MB/s eta 0:00:01\n",
      "   ---------------------------------------  124.9/124.9 MB 4.3 MB/s eta 0:00:01\n",
      "   ---------------------------------------- 124.9/124.9 MB 3.6 MB/s eta 0:00:00\n",
      "Installing collected packages: xgboost\n",
      "Successfully installed xgboost-2.1.3\n",
      "Note: you may need to restart the kernel to use updated packages.\n"
     ]
    }
   ],
   "source": [
    "pip install xgboost"
   ]
  },
  {
   "cell_type": "code",
   "execution_count": 48,
   "id": "b793b636-952a-4680-a269-ac9f0934f86b",
   "metadata": {},
   "outputs": [
    {
     "name": "stderr",
     "output_type": "stream",
     "text": [
      "C:\\Users\\cchin\\anaconda3\\Lib\\site-packages\\xgboost\\core.py:158: UserWarning: [13:52:58] WARNING: C:\\buildkite-agent\\builds\\buildkite-windows-cpu-autoscaling-group-i-0c55ff5f71b100e98-1\\xgboost\\xgboost-ci-windows\\src\\learner.cc:740: \n",
      "Parameters: { \"use_label_encoder\" } are not used.\n",
      "\n",
      "  warnings.warn(smsg, UserWarning)\n"
     ]
    }
   ],
   "source": [
    "from xgboost import XGBClassifier\n",
    "\n",
    "model = XGBClassifier(\n",
    "    n_estimators=100,        # Number of boosting rounds\n",
    "    learning_rate=0.1,       # Step size shrinkage\n",
    "    max_depth=6,             # Maximum tree depth\n",
    "    subsample=0.8,           # Fraction of samples used for fitting individual trees\n",
    "    colsample_bytree=0.8,    # Fraction of features used per tree\n",
    "    random_state=42,         # For reproducibility\n",
    "    use_label_encoder=False  # Avoids a warning for newer versions of XGBoost\n",
    ")\n",
    "model.fit(X_train, y_train)\n",
    "yPred = model.predict(X_test)"
   ]
  },
  {
   "cell_type": "code",
   "execution_count": 49,
   "id": "7449308f-f3db-4155-ace0-c150afefc096",
   "metadata": {},
   "outputs": [
    {
     "name": "stdout",
     "output_type": "stream",
     "text": [
      "The model used is XGBoost\n",
      "The accuracy is 0.9310234541577825\n",
      "The precision is 0.8160535117056856\n",
      "The recall is 0.8048117966627862\n",
      "The F1-Score is 0.8103936700205138\n",
      "The Matthews correlation coefficient is0.7682675113342211\n"
     ]
    }
   ],
   "source": [
    "print(\"The model used is XGBoost\")\n",
    "\n",
    "acc = accuracy_score(y_test, yPred)\n",
    "print(\"The accuracy is {}\".format(acc))\n",
    "\n",
    "prec = precision_score(y_test, yPred)\n",
    "print(\"The precision is {}\".format(prec))\n",
    "\n",
    "rec = recall_score(y_test, yPred)\n",
    "print(\"The recall is {}\".format(rec))\n",
    "\n",
    "f1 = f1_score(y_test, yPred)\n",
    "print(\"The F1-Score is {}\".format(f1))\n",
    "\n",
    "MCC = matthews_corrcoef(y_test, yPred)\n",
    "print(\"The Matthews correlation coefficient is{}\".format(MCC))"
   ]
  },
  {
   "cell_type": "code",
   "execution_count": 50,
   "id": "6aa63805-752a-4c9b-ba54-10e27232a2d4",
   "metadata": {},
   "outputs": [
    {
     "name": "stderr",
     "output_type": "stream",
     "text": [
      "C:\\Users\\cchin\\anaconda3\\Lib\\site-packages\\xgboost\\core.py:158: UserWarning: [14:02:15] WARNING: C:\\buildkite-agent\\builds\\buildkite-windows-cpu-autoscaling-group-i-0c55ff5f71b100e98-1\\xgboost\\xgboost-ci-windows\\src\\learner.cc:740: \n",
      "Parameters: { \"use_label_encoder\" } are not used.\n",
      "\n",
      "  warnings.warn(smsg, UserWarning)\n"
     ]
    },
    {
     "name": "stdout",
     "output_type": "stream",
     "text": [
      "Best Parameters: {'colsample_bytree': 0.6, 'learning_rate': 0.2, 'max_depth': 3, 'n_estimators': 200, 'subsample': 1.0}\n"
     ]
    }
   ],
   "source": [
    "from sklearn.model_selection import GridSearchCV\n",
    "\n",
    "param_grid = {\n",
    "    'n_estimators': [50, 100, 200],\n",
    "    'max_depth': [3, 6, 9],\n",
    "    'learning_rate': [0.01, 0.1, 0.2],\n",
    "    'subsample': [0.6, 0.8, 1.0],\n",
    "    'colsample_bytree': [0.6, 0.8, 1.0]\n",
    "}\n",
    "\n",
    "grid_search = GridSearchCV(estimator=XGBClassifier(random_state=42, use_label_encoder=False),\n",
    "                           param_grid=param_grid,\n",
    "                           scoring='accuracy',\n",
    "                           cv=5,\n",
    "                           n_jobs=-1)\n",
    "grid_search.fit(X_train, y_train)\n",
    "\n",
    "# Best parameters\n",
    "print(\"Best Parameters:\", grid_search.best_params_)"
   ]
  },
  {
   "cell_type": "code",
   "execution_count": 51,
   "id": "868a5900-5653-4f42-9645-06567f227b01",
   "metadata": {},
   "outputs": [],
   "source": [
    "model = SVC(kernel='rbf', C=1.0, gamma='scale', random_state=42)\n",
    "model.fit(X_train, y_train)\n",
    "yPred = model.predict(X_test)"
   ]
  },
  {
   "cell_type": "code",
   "execution_count": 54,
   "id": "255908b3-7dcd-4ac9-a71c-43078ddd5a13",
   "metadata": {},
   "outputs": [
    {
     "name": "stdout",
     "output_type": "stream",
     "text": [
      "The model used is SVM\n",
      "The accuracy is 0.8973702914001421\n",
      "The precision is 0.740552016985138\n",
      "The recall is 0.676755917733799\n",
      "The F1-Score is 0.7072181670721817\n",
      "The Matthews correlation coefficient is0.6461132206032107\n"
     ]
    }
   ],
   "source": [
    "print(\"The model used is SVM\")\n",
    "\n",
    "acc = accuracy_score(y_test, yPred)\n",
    "print(\"The accuracy is {}\".format(acc))\n",
    "\n",
    "prec = precision_score(y_test, yPred)\n",
    "print(\"The precision is {}\".format(prec))\n",
    "\n",
    "rec = recall_score(y_test, yPred)\n",
    "print(\"The recall is {}\".format(rec))\n",
    "\n",
    "f1 = f1_score(y_test, yPred)\n",
    "print(\"The F1-Score is {}\".format(f1))\n",
    "\n",
    "MCC = matthews_corrcoef(y_test, yPred)\n",
    "print(\"The Matthews correlation coefficient is{}\".format(MCC))"
   ]
  },
  {
   "cell_type": "markdown",
   "id": "98333005-fe83-4c1e-ad20-2b9c8e1e5bc2",
   "metadata": {},
   "source": [
    "# test data "
   ]
  },
  {
   "cell_type": "code",
   "execution_count": 86,
   "id": "e48b2cac-339c-4418-821b-713623a0d48b",
   "metadata": {},
   "outputs": [
    {
     "data": {
      "text/html": [
       "<div>\n",
       "<style scoped>\n",
       "    .dataframe tbody tr th:only-of-type {\n",
       "        vertical-align: middle;\n",
       "    }\n",
       "\n",
       "    .dataframe tbody tr th {\n",
       "        vertical-align: top;\n",
       "    }\n",
       "\n",
       "    .dataframe thead th {\n",
       "        text-align: right;\n",
       "    }\n",
       "</style>\n",
       "<table border=\"1\" class=\"dataframe\">\n",
       "  <thead>\n",
       "    <tr style=\"text-align: right;\">\n",
       "      <th></th>\n",
       "      <th>id</th>\n",
       "      <th>Name</th>\n",
       "      <th>Gender</th>\n",
       "      <th>Age</th>\n",
       "      <th>City</th>\n",
       "      <th>Working Professional or Student</th>\n",
       "      <th>Profession</th>\n",
       "      <th>Academic Pressure</th>\n",
       "      <th>Work Pressure</th>\n",
       "      <th>CGPA</th>\n",
       "      <th>Study Satisfaction</th>\n",
       "      <th>Job Satisfaction</th>\n",
       "      <th>Sleep Duration</th>\n",
       "      <th>Dietary Habits</th>\n",
       "      <th>Degree</th>\n",
       "      <th>Have you ever had suicidal thoughts ?</th>\n",
       "      <th>Work/Study Hours</th>\n",
       "      <th>Financial Stress</th>\n",
       "      <th>Family History of Mental Illness</th>\n",
       "    </tr>\n",
       "  </thead>\n",
       "  <tbody>\n",
       "    <tr>\n",
       "      <th>0</th>\n",
       "      <td>140700</td>\n",
       "      <td>Shivam</td>\n",
       "      <td>Male</td>\n",
       "      <td>53.0</td>\n",
       "      <td>Visakhapatnam</td>\n",
       "      <td>Working Professional</td>\n",
       "      <td>Judge</td>\n",
       "      <td>NaN</td>\n",
       "      <td>2.0</td>\n",
       "      <td>NaN</td>\n",
       "      <td>NaN</td>\n",
       "      <td>5.0</td>\n",
       "      <td>Less than 5 hours</td>\n",
       "      <td>Moderate</td>\n",
       "      <td>LLB</td>\n",
       "      <td>No</td>\n",
       "      <td>9.0</td>\n",
       "      <td>3.0</td>\n",
       "      <td>Yes</td>\n",
       "    </tr>\n",
       "    <tr>\n",
       "      <th>1</th>\n",
       "      <td>140701</td>\n",
       "      <td>Sanya</td>\n",
       "      <td>Female</td>\n",
       "      <td>58.0</td>\n",
       "      <td>Kolkata</td>\n",
       "      <td>Working Professional</td>\n",
       "      <td>Educational Consultant</td>\n",
       "      <td>NaN</td>\n",
       "      <td>2.0</td>\n",
       "      <td>NaN</td>\n",
       "      <td>NaN</td>\n",
       "      <td>4.0</td>\n",
       "      <td>Less than 5 hours</td>\n",
       "      <td>Moderate</td>\n",
       "      <td>B.Ed</td>\n",
       "      <td>No</td>\n",
       "      <td>6.0</td>\n",
       "      <td>4.0</td>\n",
       "      <td>No</td>\n",
       "    </tr>\n",
       "    <tr>\n",
       "      <th>2</th>\n",
       "      <td>140702</td>\n",
       "      <td>Yash</td>\n",
       "      <td>Male</td>\n",
       "      <td>53.0</td>\n",
       "      <td>Jaipur</td>\n",
       "      <td>Working Professional</td>\n",
       "      <td>Teacher</td>\n",
       "      <td>NaN</td>\n",
       "      <td>4.0</td>\n",
       "      <td>NaN</td>\n",
       "      <td>NaN</td>\n",
       "      <td>1.0</td>\n",
       "      <td>7-8 hours</td>\n",
       "      <td>Moderate</td>\n",
       "      <td>B.Arch</td>\n",
       "      <td>Yes</td>\n",
       "      <td>12.0</td>\n",
       "      <td>4.0</td>\n",
       "      <td>No</td>\n",
       "    </tr>\n",
       "    <tr>\n",
       "      <th>3</th>\n",
       "      <td>140703</td>\n",
       "      <td>Nalini</td>\n",
       "      <td>Female</td>\n",
       "      <td>23.0</td>\n",
       "      <td>Rajkot</td>\n",
       "      <td>Student</td>\n",
       "      <td>NaN</td>\n",
       "      <td>5.0</td>\n",
       "      <td>NaN</td>\n",
       "      <td>6.84</td>\n",
       "      <td>1.0</td>\n",
       "      <td>NaN</td>\n",
       "      <td>More than 8 hours</td>\n",
       "      <td>Moderate</td>\n",
       "      <td>BSc</td>\n",
       "      <td>Yes</td>\n",
       "      <td>10.0</td>\n",
       "      <td>4.0</td>\n",
       "      <td>No</td>\n",
       "    </tr>\n",
       "    <tr>\n",
       "      <th>4</th>\n",
       "      <td>140704</td>\n",
       "      <td>Shaurya</td>\n",
       "      <td>Male</td>\n",
       "      <td>47.0</td>\n",
       "      <td>Kalyan</td>\n",
       "      <td>Working Professional</td>\n",
       "      <td>Teacher</td>\n",
       "      <td>NaN</td>\n",
       "      <td>5.0</td>\n",
       "      <td>NaN</td>\n",
       "      <td>NaN</td>\n",
       "      <td>5.0</td>\n",
       "      <td>7-8 hours</td>\n",
       "      <td>Moderate</td>\n",
       "      <td>BCA</td>\n",
       "      <td>Yes</td>\n",
       "      <td>3.0</td>\n",
       "      <td>4.0</td>\n",
       "      <td>No</td>\n",
       "    </tr>\n",
       "  </tbody>\n",
       "</table>\n",
       "</div>"
      ],
      "text/plain": [
       "       id     Name  Gender   Age           City  \\\n",
       "0  140700   Shivam    Male  53.0  Visakhapatnam   \n",
       "1  140701    Sanya  Female  58.0        Kolkata   \n",
       "2  140702     Yash    Male  53.0         Jaipur   \n",
       "3  140703   Nalini  Female  23.0         Rajkot   \n",
       "4  140704  Shaurya    Male  47.0         Kalyan   \n",
       "\n",
       "  Working Professional or Student              Profession  Academic Pressure  \\\n",
       "0            Working Professional                   Judge                NaN   \n",
       "1            Working Professional  Educational Consultant                NaN   \n",
       "2            Working Professional                 Teacher                NaN   \n",
       "3                         Student                     NaN                5.0   \n",
       "4            Working Professional                 Teacher                NaN   \n",
       "\n",
       "   Work Pressure  CGPA  Study Satisfaction  Job Satisfaction  \\\n",
       "0            2.0   NaN                 NaN               5.0   \n",
       "1            2.0   NaN                 NaN               4.0   \n",
       "2            4.0   NaN                 NaN               1.0   \n",
       "3            NaN  6.84                 1.0               NaN   \n",
       "4            5.0   NaN                 NaN               5.0   \n",
       "\n",
       "      Sleep Duration Dietary Habits  Degree  \\\n",
       "0  Less than 5 hours       Moderate     LLB   \n",
       "1  Less than 5 hours       Moderate    B.Ed   \n",
       "2          7-8 hours       Moderate  B.Arch   \n",
       "3  More than 8 hours       Moderate     BSc   \n",
       "4          7-8 hours       Moderate     BCA   \n",
       "\n",
       "  Have you ever had suicidal thoughts ?  Work/Study Hours  Financial Stress  \\\n",
       "0                                    No               9.0               3.0   \n",
       "1                                    No               6.0               4.0   \n",
       "2                                   Yes              12.0               4.0   \n",
       "3                                   Yes              10.0               4.0   \n",
       "4                                   Yes               3.0               4.0   \n",
       "\n",
       "  Family History of Mental Illness  \n",
       "0                              Yes  \n",
       "1                               No  \n",
       "2                               No  \n",
       "3                               No  \n",
       "4                               No  "
      ]
     },
     "execution_count": 86,
     "metadata": {},
     "output_type": "execute_result"
    }
   ],
   "source": [
    "test.head()"
   ]
  },
  {
   "cell_type": "code",
   "execution_count": 55,
   "id": "f6fd1fce-4d55-4846-90de-f406b5cc5c99",
   "metadata": {},
   "outputs": [
    {
     "data": {
      "text/plain": [
       "id                                           0\n",
       "Name                                         0\n",
       "Gender                                       0\n",
       "Age                                          0\n",
       "City                                         0\n",
       "Working Professional or Student              0\n",
       "Profession                               24632\n",
       "Academic Pressure                        75033\n",
       "Work Pressure                            18778\n",
       "CGPA                                     75034\n",
       "Study Satisfaction                       75033\n",
       "Job Satisfaction                         18774\n",
       "Sleep Duration                               0\n",
       "Dietary Habits                               5\n",
       "Degree                                       2\n",
       "Have you ever had suicidal thoughts ?        0\n",
       "Work/Study Hours                             0\n",
       "Financial Stress                             0\n",
       "Family History of Mental Illness             0\n",
       "dtype: int64"
      ]
     },
     "execution_count": 55,
     "metadata": {},
     "output_type": "execute_result"
    }
   ],
   "source": [
    "test.isna().sum()"
   ]
  },
  {
   "cell_type": "code",
   "execution_count": null,
   "id": "72c2f9f5-1ace-40b8-9575-156250c2e72a",
   "metadata": {},
   "outputs": [],
   "source": []
  },
  {
   "cell_type": "code",
   "execution_count": 56,
   "id": "b2102ea4-2d0f-47f1-add4-8c11563190e3",
   "metadata": {},
   "outputs": [
    {
     "data": {
      "text/plain": [
       "0"
      ]
     },
     "execution_count": 56,
     "metadata": {},
     "output_type": "execute_result"
    }
   ],
   "source": [
    "test.duplicated().sum()"
   ]
  },
  {
   "cell_type": "code",
   "execution_count": 57,
   "id": "1e47d9c1-717d-490f-adea-7e8486596897",
   "metadata": {},
   "outputs": [
    {
     "data": {
      "text/plain": [
       "(93800, 19)"
      ]
     },
     "execution_count": 57,
     "metadata": {},
     "output_type": "execute_result"
    }
   ],
   "source": [
    "test.shape"
   ]
  },
  {
   "cell_type": "code",
   "execution_count": 58,
   "id": "bd9ac518-5e16-4463-b2d6-bf41774fe292",
   "metadata": {},
   "outputs": [],
   "source": [
    "test.drop(columns=['Academic Pressure', 'CGPA' , 'Study Satisfaction', 'id'], inplace=True)"
   ]
  },
  {
   "cell_type": "code",
   "execution_count": 59,
   "id": "4c436b03-fa15-4d9e-9e75-471ca9b0ff1e",
   "metadata": {},
   "outputs": [
    {
     "data": {
      "text/plain": [
       "Name                                      object\n",
       "Gender                                    object\n",
       "Age                                      float64\n",
       "City                                      object\n",
       "Working Professional or Student           object\n",
       "Profession                                object\n",
       "Work Pressure                            float64\n",
       "Job Satisfaction                         float64\n",
       "Sleep Duration                            object\n",
       "Dietary Habits                            object\n",
       "Degree                                    object\n",
       "Have you ever had suicidal thoughts ?     object\n",
       "Work/Study Hours                         float64\n",
       "Financial Stress                         float64\n",
       "Family History of Mental Illness          object\n",
       "dtype: object"
      ]
     },
     "execution_count": 59,
     "metadata": {},
     "output_type": "execute_result"
    }
   ],
   "source": [
    "test.dtypes"
   ]
  },
  {
   "cell_type": "code",
   "execution_count": 60,
   "id": "cbb5900b-f9f0-4b2f-9846-52bc5ded624a",
   "metadata": {},
   "outputs": [],
   "source": [
    "X_test = [col for col in train.columns if col not in ['Depression']]\n",
    "Y_test = ['Depression']"
   ]
  },
  {
   "cell_type": "code",
   "execution_count": 61,
   "id": "b3e046da-80b7-4f8a-a52f-01d4491d4f0c",
   "metadata": {},
   "outputs": [],
   "source": [
    "categorial_test = [col for col in X if train[col].dtype == 'O']\n",
    "numerical_test = [col for col in X if col not in categorial]"
   ]
  },
  {
   "cell_type": "code",
   "execution_count": 65,
   "id": "48f15a08-55bd-43ae-a06c-e179aaf13763",
   "metadata": {},
   "outputs": [],
   "source": [
    "imputer = SimpleImputer(strategy='mean')\n",
    "test[numerical] = imputer.fit_transform(test[numerical])"
   ]
  },
  {
   "cell_type": "code",
   "execution_count": 66,
   "id": "2a44257d-3569-46d3-9069-6ba0ef7eb7d1",
   "metadata": {},
   "outputs": [],
   "source": [
    "imputer = SimpleImputer(strategy='most_frequent')\n",
    "test[categorial] = imputer.fit_transform(test[categorial])"
   ]
  },
  {
   "cell_type": "code",
   "execution_count": 67,
   "id": "bc7a7797-72d4-413e-abf6-eeca2204e63c",
   "metadata": {},
   "outputs": [
    {
     "data": {
      "text/plain": [
       "Name                                     0\n",
       "Gender                                   0\n",
       "Age                                      0\n",
       "City                                     0\n",
       "Working Professional or Student          0\n",
       "Profession                               0\n",
       "Work Pressure                            0\n",
       "Job Satisfaction                         0\n",
       "Sleep Duration                           0\n",
       "Dietary Habits                           0\n",
       "Degree                                   0\n",
       "Have you ever had suicidal thoughts ?    0\n",
       "Work/Study Hours                         0\n",
       "Financial Stress                         0\n",
       "Family History of Mental Illness         0\n",
       "dtype: int64"
      ]
     },
     "execution_count": 67,
     "metadata": {},
     "output_type": "execute_result"
    }
   ],
   "source": [
    "test.isna().sum()"
   ]
  },
  {
   "cell_type": "code",
   "execution_count": 80,
   "id": "239e318c-f782-4920-ad66-6a305bf29e17",
   "metadata": {},
   "outputs": [
    {
     "data": {
      "text/plain": [
       "(93800, 15)"
      ]
     },
     "execution_count": 80,
     "metadata": {},
     "output_type": "execute_result"
    }
   ],
   "source": [
    "train.shape\n",
    "test.shape"
   ]
  },
  {
   "cell_type": "code",
   "execution_count": 70,
   "id": "67855ad1-d610-4e48-9821-29e22963012d",
   "metadata": {},
   "outputs": [],
   "source": [
    "from sklearn.preprocessing import LabelEncoder\n",
    "\n",
    "# Initialize the LabelEncoder\n",
    "encoder = LabelEncoder()\n",
    "\n",
    "# Apply LabelEncoder to each categorical column\n",
    "for column in categorial:\n",
    "    test[column] = encoder.fit_transform(test[column])"
   ]
  },
  {
   "cell_type": "code",
   "execution_count": 71,
   "id": "463bc1a7-6208-4ef9-be30-3f111ab12584",
   "metadata": {},
   "outputs": [
    {
     "data": {
      "text/html": [
       "<div>\n",
       "<style scoped>\n",
       "    .dataframe tbody tr th:only-of-type {\n",
       "        vertical-align: middle;\n",
       "    }\n",
       "\n",
       "    .dataframe tbody tr th {\n",
       "        vertical-align: top;\n",
       "    }\n",
       "\n",
       "    .dataframe thead th {\n",
       "        text-align: right;\n",
       "    }\n",
       "</style>\n",
       "<table border=\"1\" class=\"dataframe\">\n",
       "  <thead>\n",
       "    <tr style=\"text-align: right;\">\n",
       "      <th></th>\n",
       "      <th>Name</th>\n",
       "      <th>Gender</th>\n",
       "      <th>Age</th>\n",
       "      <th>City</th>\n",
       "      <th>Working Professional or Student</th>\n",
       "      <th>Profession</th>\n",
       "      <th>Work Pressure</th>\n",
       "      <th>Job Satisfaction</th>\n",
       "      <th>Sleep Duration</th>\n",
       "      <th>Dietary Habits</th>\n",
       "      <th>Degree</th>\n",
       "      <th>Have you ever had suicidal thoughts ?</th>\n",
       "      <th>Work/Study Hours</th>\n",
       "      <th>Financial Stress</th>\n",
       "      <th>Family History of Mental Illness</th>\n",
       "    </tr>\n",
       "  </thead>\n",
       "  <tbody>\n",
       "    <tr>\n",
       "      <th>0</th>\n",
       "      <td>288</td>\n",
       "      <td>1</td>\n",
       "      <td>53.0</td>\n",
       "      <td>67</td>\n",
       "      <td>1</td>\n",
       "      <td>27</td>\n",
       "      <td>2.000000</td>\n",
       "      <td>5.00000</td>\n",
       "      <td>25</td>\n",
       "      <td>12</td>\n",
       "      <td>53</td>\n",
       "      <td>0</td>\n",
       "      <td>9.0</td>\n",
       "      <td>3.0</td>\n",
       "      <td>1</td>\n",
       "    </tr>\n",
       "    <tr>\n",
       "      <th>1</th>\n",
       "      <td>279</td>\n",
       "      <td>0</td>\n",
       "      <td>58.0</td>\n",
       "      <td>25</td>\n",
       "      <td>1</td>\n",
       "      <td>19</td>\n",
       "      <td>2.000000</td>\n",
       "      <td>4.00000</td>\n",
       "      <td>25</td>\n",
       "      <td>12</td>\n",
       "      <td>16</td>\n",
       "      <td>0</td>\n",
       "      <td>6.0</td>\n",
       "      <td>4.0</td>\n",
       "      <td>0</td>\n",
       "    </tr>\n",
       "    <tr>\n",
       "      <th>2</th>\n",
       "      <td>365</td>\n",
       "      <td>1</td>\n",
       "      <td>53.0</td>\n",
       "      <td>21</td>\n",
       "      <td>1</td>\n",
       "      <td>56</td>\n",
       "      <td>4.000000</td>\n",
       "      <td>1.00000</td>\n",
       "      <td>16</td>\n",
       "      <td>12</td>\n",
       "      <td>12</td>\n",
       "      <td>1</td>\n",
       "      <td>12.0</td>\n",
       "      <td>4.0</td>\n",
       "      <td>0</td>\n",
       "    </tr>\n",
       "    <tr>\n",
       "      <th>3</th>\n",
       "      <td>191</td>\n",
       "      <td>0</td>\n",
       "      <td>23.0</td>\n",
       "      <td>47</td>\n",
       "      <td>0</td>\n",
       "      <td>56</td>\n",
       "      <td>3.011797</td>\n",
       "      <td>2.96092</td>\n",
       "      <td>27</td>\n",
       "      <td>12</td>\n",
       "      <td>35</td>\n",
       "      <td>1</td>\n",
       "      <td>10.0</td>\n",
       "      <td>4.0</td>\n",
       "      <td>0</td>\n",
       "    </tr>\n",
       "    <tr>\n",
       "      <th>4</th>\n",
       "      <td>285</td>\n",
       "      <td>1</td>\n",
       "      <td>47.0</td>\n",
       "      <td>22</td>\n",
       "      <td>1</td>\n",
       "      <td>56</td>\n",
       "      <td>5.000000</td>\n",
       "      <td>5.00000</td>\n",
       "      <td>16</td>\n",
       "      <td>12</td>\n",
       "      <td>28</td>\n",
       "      <td>1</td>\n",
       "      <td>3.0</td>\n",
       "      <td>4.0</td>\n",
       "      <td>0</td>\n",
       "    </tr>\n",
       "  </tbody>\n",
       "</table>\n",
       "</div>"
      ],
      "text/plain": [
       "   Name  Gender   Age  City  Working Professional or Student  Profession  \\\n",
       "0   288       1  53.0    67                                1          27   \n",
       "1   279       0  58.0    25                                1          19   \n",
       "2   365       1  53.0    21                                1          56   \n",
       "3   191       0  23.0    47                                0          56   \n",
       "4   285       1  47.0    22                                1          56   \n",
       "\n",
       "   Work Pressure  Job Satisfaction  Sleep Duration  Dietary Habits  Degree  \\\n",
       "0       2.000000           5.00000              25              12      53   \n",
       "1       2.000000           4.00000              25              12      16   \n",
       "2       4.000000           1.00000              16              12      12   \n",
       "3       3.011797           2.96092              27              12      35   \n",
       "4       5.000000           5.00000              16              12      28   \n",
       "\n",
       "   Have you ever had suicidal thoughts ?  Work/Study Hours  Financial Stress  \\\n",
       "0                                      0               9.0               3.0   \n",
       "1                                      0               6.0               4.0   \n",
       "2                                      1              12.0               4.0   \n",
       "3                                      1              10.0               4.0   \n",
       "4                                      1               3.0               4.0   \n",
       "\n",
       "   Family History of Mental Illness  \n",
       "0                                 1  \n",
       "1                                 0  \n",
       "2                                 0  \n",
       "3                                 0  \n",
       "4                                 0  "
      ]
     },
     "execution_count": 71,
     "metadata": {},
     "output_type": "execute_result"
    }
   ],
   "source": [
    "test.head()"
   ]
  },
  {
   "cell_type": "code",
   "execution_count": 82,
   "id": "44a261e2-8900-4099-8081-f9dac2741f91",
   "metadata": {},
   "outputs": [],
   "source": [
    "test_x= test.iloc[:,:]\n"
   ]
  },
  {
   "cell_type": "markdown",
   "id": "51d0f520-be5e-438a-8182-3662f4452dfb",
   "metadata": {},
   "source": [
    "# Fitting the model on whole data and validating on the Test dataset:"
   ]
  },
  {
   "cell_type": "code",
   "execution_count": 76,
   "id": "87394616-c5b7-4d79-bd0f-ebac38043950",
   "metadata": {},
   "outputs": [],
   "source": [
    "final_xgboost_model =  XGBClassifier(\n",
    "    n_estimators=100,        # Number of boosting rounds\n",
    "    learning_rate=0.1,       # Step size shrinkage\n",
    "    max_depth=6,             # Maximum tree depth\n",
    "    subsample=0.8,           # Fraction of samples used for fitting individual trees\n",
    "    colsample_bytree=0.8,    # Fraction of features used per tree\n",
    "    random_state=42,         # For reproducibility\n",
    "    use_label_encoder=False  # Avoids a warning for newer versions of XGBoost\n",
    ")"
   ]
  },
  {
   "cell_type": "code",
   "execution_count": 83,
   "id": "5ed73c75-2e5c-4276-98d5-63c4fccbefa0",
   "metadata": {},
   "outputs": [
    {
     "name": "stderr",
     "output_type": "stream",
     "text": [
      "C:\\Users\\cchin\\anaconda3\\Lib\\site-packages\\xgboost\\core.py:158: UserWarning: [14:51:06] WARNING: C:\\buildkite-agent\\builds\\buildkite-windows-cpu-autoscaling-group-i-0c55ff5f71b100e98-1\\xgboost\\xgboost-ci-windows\\src\\learner.cc:740: \n",
      "Parameters: { \"use_label_encoder\" } are not used.\n",
      "\n",
      "  warnings.warn(smsg, UserWarning)\n"
     ]
    }
   ],
   "source": [
    "final_xgboost_model.fit(x, y)\n",
    "y_pred = final_xgboost_model.predict(test_x)"
   ]
  },
  {
   "cell_type": "markdown",
   "id": "333252fa-4275-4be6-becd-38f4e90a4982",
   "metadata": {},
   "source": [
    "# Submission"
   ]
  },
  {
   "cell_type": "code",
   "execution_count": null,
   "id": "da6a7e4a-9c0a-46ad-b167-df8283b9eb9c",
   "metadata": {},
   "outputs": [],
   "source": []
  },
  {
   "cell_type": "code",
   "execution_count": 87,
   "id": "3afae493-6d0c-4b51-a036-5aa4d0bf227b",
   "metadata": {},
   "outputs": [],
   "source": [
    "submission = pd.DataFrame({\n",
    "    'id': test['id'],  \n",
    "    'Depression': y_pred  \n",
    "})\n",
    "submission.to_csv('submission5.csv', index=False)"
   ]
  },
  {
   "cell_type": "code",
   "execution_count": 88,
   "id": "517c3810-0c4d-4301-841a-15d57d7a2a35",
   "metadata": {},
   "outputs": [
    {
     "data": {
      "text/html": [
       "<div>\n",
       "<style scoped>\n",
       "    .dataframe tbody tr th:only-of-type {\n",
       "        vertical-align: middle;\n",
       "    }\n",
       "\n",
       "    .dataframe tbody tr th {\n",
       "        vertical-align: top;\n",
       "    }\n",
       "\n",
       "    .dataframe thead th {\n",
       "        text-align: right;\n",
       "    }\n",
       "</style>\n",
       "<table border=\"1\" class=\"dataframe\">\n",
       "  <thead>\n",
       "    <tr style=\"text-align: right;\">\n",
       "      <th></th>\n",
       "      <th>id</th>\n",
       "      <th>Depression</th>\n",
       "    </tr>\n",
       "  </thead>\n",
       "  <tbody>\n",
       "    <tr>\n",
       "      <th>0</th>\n",
       "      <td>140700</td>\n",
       "      <td>0</td>\n",
       "    </tr>\n",
       "    <tr>\n",
       "      <th>1</th>\n",
       "      <td>140701</td>\n",
       "      <td>0</td>\n",
       "    </tr>\n",
       "    <tr>\n",
       "      <th>2</th>\n",
       "      <td>140702</td>\n",
       "      <td>0</td>\n",
       "    </tr>\n",
       "    <tr>\n",
       "      <th>3</th>\n",
       "      <td>140703</td>\n",
       "      <td>1</td>\n",
       "    </tr>\n",
       "    <tr>\n",
       "      <th>4</th>\n",
       "      <td>140704</td>\n",
       "      <td>0</td>\n",
       "    </tr>\n",
       "    <tr>\n",
       "      <th>...</th>\n",
       "      <td>...</td>\n",
       "      <td>...</td>\n",
       "    </tr>\n",
       "    <tr>\n",
       "      <th>93795</th>\n",
       "      <td>234495</td>\n",
       "      <td>0</td>\n",
       "    </tr>\n",
       "    <tr>\n",
       "      <th>93796</th>\n",
       "      <td>234496</td>\n",
       "      <td>1</td>\n",
       "    </tr>\n",
       "    <tr>\n",
       "      <th>93797</th>\n",
       "      <td>234497</td>\n",
       "      <td>0</td>\n",
       "    </tr>\n",
       "    <tr>\n",
       "      <th>93798</th>\n",
       "      <td>234498</td>\n",
       "      <td>1</td>\n",
       "    </tr>\n",
       "    <tr>\n",
       "      <th>93799</th>\n",
       "      <td>234499</td>\n",
       "      <td>0</td>\n",
       "    </tr>\n",
       "  </tbody>\n",
       "</table>\n",
       "<p>93800 rows × 2 columns</p>\n",
       "</div>"
      ],
      "text/plain": [
       "           id  Depression\n",
       "0      140700           0\n",
       "1      140701           0\n",
       "2      140702           0\n",
       "3      140703           1\n",
       "4      140704           0\n",
       "...       ...         ...\n",
       "93795  234495           0\n",
       "93796  234496           1\n",
       "93797  234497           0\n",
       "93798  234498           1\n",
       "93799  234499           0\n",
       "\n",
       "[93800 rows x 2 columns]"
      ]
     },
     "execution_count": 88,
     "metadata": {},
     "output_type": "execute_result"
    }
   ],
   "source": [
    "submission"
   ]
  },
  {
   "cell_type": "code",
   "execution_count": 89,
   "id": "7fabc5ad-49aa-4f66-8b6c-ced0c39ab635",
   "metadata": {},
   "outputs": [
    {
     "data": {
      "text/plain": [
       "id            0\n",
       "Depression    0\n",
       "dtype: int64"
      ]
     },
     "execution_count": 89,
     "metadata": {},
     "output_type": "execute_result"
    }
   ],
   "source": [
    "submission.isna().sum()"
   ]
  },
  {
   "cell_type": "code",
   "execution_count": null,
   "id": "7280ead2-ca1c-4518-a0de-cec6bfaba9a6",
   "metadata": {},
   "outputs": [],
   "source": []
  }
 ],
 "metadata": {
  "kernelspec": {
   "display_name": "Python 3 (ipykernel)",
   "language": "python",
   "name": "python3"
  },
  "language_info": {
   "codemirror_mode": {
    "name": "ipython",
    "version": 3
   },
   "file_extension": ".py",
   "mimetype": "text/x-python",
   "name": "python",
   "nbconvert_exporter": "python",
   "pygments_lexer": "ipython3",
   "version": "3.11.7"
  }
 },
 "nbformat": 4,
 "nbformat_minor": 5
}
